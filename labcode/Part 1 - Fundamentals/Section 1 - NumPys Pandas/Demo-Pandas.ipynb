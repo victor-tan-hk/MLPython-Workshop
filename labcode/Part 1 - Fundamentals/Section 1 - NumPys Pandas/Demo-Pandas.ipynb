{
 "cells": [
  {
   "cell_type": "markdown",
   "id": "bd69aca4",
   "metadata": {},
   "source": [
    "# Import Pandas and Numpy libraries with conventional aliases"
   ]
  },
  {
   "cell_type": "code",
   "execution_count": 3,
   "id": "2a62b837",
   "metadata": {},
   "outputs": [],
   "source": [
    "import pandas as pd\n",
    "import numpy as np"
   ]
  },
  {
   "cell_type": "markdown",
   "id": "0cfc5dcb",
   "metadata": {},
   "source": [
    "# Different ways of creating a Pandas DataFrame"
   ]
  },
  {
   "cell_type": "markdown",
   "id": "07d39c98",
   "metadata": {},
   "source": [
    "## 1. Create DataFrame from dictionary of lists"
   ]
  },
  {
   "cell_type": "code",
   "execution_count": 4,
   "id": "a6a382a8",
   "metadata": {},
   "outputs": [
    {
     "name": "stdout",
     "output_type": "stream",
     "text": [
      "\n",
      "Basic DataFrame with only column names\n",
      "\n",
      "     Name  Age Department\n",
      "0    Emma   29         HR\n",
      "1  Oliver   25    Finance\n",
      "2   Harry   33  Marketing\n",
      "3  Sophia   24         IT\n",
      "<class 'pandas.core.frame.DataFrame'>\n",
      "\n",
      "Basic DataFrame with index names specified\n",
      "\n",
      "        apples  oranges\n",
      "June         3        0\n",
      "Robert       2        3\n",
      "Lily         0        7\n",
      "David        1        2\n"
     ]
    }
   ],
   "source": [
    "dictionary_of_lists_1 = {\n",
    "    'Name': ['Emma', 'Oliver', 'Harry', 'Sophia'], \n",
    "    'Age': [29, 25, 33, 24],\n",
    "    'Department': ['HR', 'Finance', 'Marketing', 'IT']}\n",
    "df1 = pd.DataFrame(dictionary_of_lists_1)\n",
    "print (\"\\nBasic DataFrame with only column names\\n\")\n",
    "print (df1)\n",
    "print (type(df1))\n",
    "\n",
    "\n",
    "dictionary_of_lists_2 = {\n",
    "    'apples': [3, 2, 0, 1], \n",
    "    'oranges': [0, 3, 7, 2]\n",
    "}\n",
    "df2 = pd.DataFrame(dictionary_of_lists_2, index=['June', 'Robert', 'Lily', 'David'])\n",
    "print (\"\\nBasic DataFrame with index names specified\\n\")\n",
    "print (df2)\n"
   ]
  },
  {
   "cell_type": "markdown",
   "id": "42a995f1",
   "metadata": {},
   "source": [
    "\n",
    "## 2. Create DataFrame from simple 2D NumPy array"
   ]
  },
  {
   "cell_type": "code",
   "execution_count": 5,
   "id": "ca35188a",
   "metadata": {},
   "outputs": [
    {
     "name": "stdout",
     "output_type": "stream",
     "text": [
      "\n",
      "2D Numpy array\n",
      "\n",
      "[[5 1 8]\n",
      " [2 2 8]\n",
      " [9 3 9]\n",
      " [2 4 4]]\n",
      "\n",
      "Basic DataFrame\n",
      "\n",
      "   0  1  2\n",
      "0  5  1  8\n",
      "1  2  2  8\n",
      "2  9  3  9\n",
      "3  2  4  4\n",
      "\n",
      "DataFrame with column names specified\n",
      "\n",
      "   firstcol  secondcol  thirdcol\n",
      "0         5          1         8\n",
      "1         2          2         8\n",
      "2         9          3         9\n",
      "3         2          4         4\n"
     ]
    }
   ],
   "source": [
    "simple2Darray = np.random.randint(10, size=(4,3))\n",
    "print (\"\\n2D Numpy array\\n\")\n",
    "print(simple2Darray)\n",
    "print (\"\\nBasic DataFrame\\n\")\n",
    "df3 = pd.DataFrame(simple2Darray)\n",
    "print(df3)\n",
    "print (\"\\nDataFrame with column names specified\\n\")\n",
    "df4 = pd.DataFrame(simple2Darray, columns=['firstcol', 'secondcol', 'thirdcol'])\n",
    "print(df4)\n"
   ]
  },
  {
   "cell_type": "markdown",
   "id": "82143ab0",
   "metadata": {},
   "source": [
    "## 3. Create DataFrame from list of dictionaries"
   ]
  },
  {
   "cell_type": "code",
   "execution_count": 6,
   "id": "600310bf",
   "metadata": {},
   "outputs": [
    {
     "name": "stdout",
     "output_type": "stream",
     "text": [
      "             Name  Age Department\n",
      "Employee1    Emma   29         HR\n",
      "Employee2  Oliver   25    Finance\n",
      "Employee3   Harry   33  Marketing\n",
      "Employee4  Sophia   24         IT\n"
     ]
    }
   ],
   "source": [
    "list_of_dictionaries = [\n",
    "    {'Name': 'Emma', 'Age': 29, 'Department': 'HR'},\n",
    "    {'Name': 'Oliver', 'Age': 25, 'Department': 'Finance'},\n",
    "    {'Name': 'Harry', 'Age': 33, 'Department': 'Marketing'},\n",
    "    {'Name': 'Sophia', 'Age': 24, 'Department': 'IT'}]\n",
    "df5 = pd.DataFrame(list_of_dictionaries, index=['Employee1', 'Employee2', 'Employee3', 'Employee4'])\n",
    "print (df5)"
   ]
  },
  {
   "cell_type": "markdown",
   "id": "5de3eb79",
   "metadata": {},
   "source": [
    "## 4. Create DataFrame from reading from CSV file"
   ]
  },
  {
   "cell_type": "code",
   "execution_count": 7,
   "id": "43f5bbd7",
   "metadata": {},
   "outputs": [],
   "source": [
    "customers = pd.read_csv(\"customers.csv\")"
   ]
  },
  {
   "cell_type": "markdown",
   "id": "078a3eda",
   "metadata": {},
   "source": [
    "# Working with a DataFrame"
   ]
  },
  {
   "cell_type": "markdown",
   "id": "b41e2654",
   "metadata": {},
   "source": [
    "## 1. Viewing a number of first and last rows from a large DataFrame"
   ]
  },
  {
   "cell_type": "code",
   "execution_count": 8,
   "id": "7a941a55",
   "metadata": {},
   "outputs": [
    {
     "name": "stdout",
     "output_type": "stream",
     "text": [
      "\n",
      "Showing the first 5 rows\n",
      "\n"
     ]
    },
    {
     "data": {
      "text/html": [
       "<div>\n",
       "<style scoped>\n",
       "    .dataframe tbody tr th:only-of-type {\n",
       "        vertical-align: middle;\n",
       "    }\n",
       "\n",
       "    .dataframe tbody tr th {\n",
       "        vertical-align: top;\n",
       "    }\n",
       "\n",
       "    .dataframe thead th {\n",
       "        text-align: right;\n",
       "    }\n",
       "</style>\n",
       "<table border=\"1\" class=\"dataframe\">\n",
       "  <thead>\n",
       "    <tr style=\"text-align: right;\">\n",
       "      <th></th>\n",
       "      <th>CustomerID</th>\n",
       "      <th>Gender</th>\n",
       "      <th>Age</th>\n",
       "      <th>Income</th>\n",
       "      <th>Score</th>\n",
       "    </tr>\n",
       "  </thead>\n",
       "  <tbody>\n",
       "    <tr>\n",
       "      <th>0</th>\n",
       "      <td>1</td>\n",
       "      <td>Male</td>\n",
       "      <td>19.0</td>\n",
       "      <td>15</td>\n",
       "      <td>39</td>\n",
       "    </tr>\n",
       "    <tr>\n",
       "      <th>1</th>\n",
       "      <td>2</td>\n",
       "      <td>Male</td>\n",
       "      <td>21.0</td>\n",
       "      <td>15</td>\n",
       "      <td>81</td>\n",
       "    </tr>\n",
       "    <tr>\n",
       "      <th>2</th>\n",
       "      <td>3</td>\n",
       "      <td>Female</td>\n",
       "      <td>20.0</td>\n",
       "      <td>16</td>\n",
       "      <td>6</td>\n",
       "    </tr>\n",
       "    <tr>\n",
       "      <th>3</th>\n",
       "      <td>4</td>\n",
       "      <td>Female</td>\n",
       "      <td>NaN</td>\n",
       "      <td>16</td>\n",
       "      <td>77</td>\n",
       "    </tr>\n",
       "    <tr>\n",
       "      <th>4</th>\n",
       "      <td>5</td>\n",
       "      <td>Female</td>\n",
       "      <td>31.0</td>\n",
       "      <td>17</td>\n",
       "      <td>40</td>\n",
       "    </tr>\n",
       "  </tbody>\n",
       "</table>\n",
       "</div>"
      ],
      "text/plain": [
       "   CustomerID  Gender   Age  Income  Score\n",
       "0           1    Male  19.0      15     39\n",
       "1           2    Male  21.0      15     81\n",
       "2           3  Female  20.0      16      6\n",
       "3           4  Female   NaN      16     77\n",
       "4           5  Female  31.0      17     40"
      ]
     },
     "execution_count": 8,
     "metadata": {},
     "output_type": "execute_result"
    }
   ],
   "source": [
    "print (\"\\nShowing the first 5 rows\\n\")\n",
    "customers.head()\n"
   ]
  },
  {
   "cell_type": "code",
   "execution_count": 9,
   "id": "6c43c075",
   "metadata": {},
   "outputs": [
    {
     "name": "stdout",
     "output_type": "stream",
     "text": [
      "\n",
      "Showing the last 5 rows\n",
      "\n"
     ]
    },
    {
     "data": {
      "text/html": [
       "<div>\n",
       "<style scoped>\n",
       "    .dataframe tbody tr th:only-of-type {\n",
       "        vertical-align: middle;\n",
       "    }\n",
       "\n",
       "    .dataframe tbody tr th {\n",
       "        vertical-align: top;\n",
       "    }\n",
       "\n",
       "    .dataframe thead th {\n",
       "        text-align: right;\n",
       "    }\n",
       "</style>\n",
       "<table border=\"1\" class=\"dataframe\">\n",
       "  <thead>\n",
       "    <tr style=\"text-align: right;\">\n",
       "      <th></th>\n",
       "      <th>CustomerID</th>\n",
       "      <th>Gender</th>\n",
       "      <th>Age</th>\n",
       "      <th>Income</th>\n",
       "      <th>Score</th>\n",
       "    </tr>\n",
       "  </thead>\n",
       "  <tbody>\n",
       "    <tr>\n",
       "      <th>195</th>\n",
       "      <td>196</td>\n",
       "      <td>Female</td>\n",
       "      <td>35.0</td>\n",
       "      <td>120</td>\n",
       "      <td>79</td>\n",
       "    </tr>\n",
       "    <tr>\n",
       "      <th>196</th>\n",
       "      <td>197</td>\n",
       "      <td>Female</td>\n",
       "      <td>45.0</td>\n",
       "      <td>126</td>\n",
       "      <td>28</td>\n",
       "    </tr>\n",
       "    <tr>\n",
       "      <th>197</th>\n",
       "      <td>198</td>\n",
       "      <td>Male</td>\n",
       "      <td>32.0</td>\n",
       "      <td>126</td>\n",
       "      <td>74</td>\n",
       "    </tr>\n",
       "    <tr>\n",
       "      <th>198</th>\n",
       "      <td>199</td>\n",
       "      <td>Male</td>\n",
       "      <td>32.0</td>\n",
       "      <td>137</td>\n",
       "      <td>18</td>\n",
       "    </tr>\n",
       "    <tr>\n",
       "      <th>199</th>\n",
       "      <td>200</td>\n",
       "      <td>Male</td>\n",
       "      <td>30.0</td>\n",
       "      <td>137</td>\n",
       "      <td>83</td>\n",
       "    </tr>\n",
       "  </tbody>\n",
       "</table>\n",
       "</div>"
      ],
      "text/plain": [
       "     CustomerID  Gender   Age  Income  Score\n",
       "195         196  Female  35.0     120     79\n",
       "196         197  Female  45.0     126     28\n",
       "197         198    Male  32.0     126     74\n",
       "198         199    Male  32.0     137     18\n",
       "199         200    Male  30.0     137     83"
      ]
     },
     "execution_count": 9,
     "metadata": {},
     "output_type": "execute_result"
    }
   ],
   "source": [
    "print (\"\\nShowing the last 5 rows\\n\")\n",
    "customers.tail()"
   ]
  },
  {
   "cell_type": "code",
   "execution_count": 10,
   "id": "bf8af094",
   "metadata": {},
   "outputs": [
    {
     "name": "stdout",
     "output_type": "stream",
     "text": [
      "\n",
      "Showing a specified number of rows from the start\n",
      "\n"
     ]
    },
    {
     "data": {
      "text/html": [
       "<div>\n",
       "<style scoped>\n",
       "    .dataframe tbody tr th:only-of-type {\n",
       "        vertical-align: middle;\n",
       "    }\n",
       "\n",
       "    .dataframe tbody tr th {\n",
       "        vertical-align: top;\n",
       "    }\n",
       "\n",
       "    .dataframe thead th {\n",
       "        text-align: right;\n",
       "    }\n",
       "</style>\n",
       "<table border=\"1\" class=\"dataframe\">\n",
       "  <thead>\n",
       "    <tr style=\"text-align: right;\">\n",
       "      <th></th>\n",
       "      <th>CustomerID</th>\n",
       "      <th>Gender</th>\n",
       "      <th>Age</th>\n",
       "      <th>Income</th>\n",
       "      <th>Score</th>\n",
       "    </tr>\n",
       "  </thead>\n",
       "  <tbody>\n",
       "    <tr>\n",
       "      <th>0</th>\n",
       "      <td>1</td>\n",
       "      <td>Male</td>\n",
       "      <td>19.0</td>\n",
       "      <td>15</td>\n",
       "      <td>39</td>\n",
       "    </tr>\n",
       "    <tr>\n",
       "      <th>1</th>\n",
       "      <td>2</td>\n",
       "      <td>Male</td>\n",
       "      <td>21.0</td>\n",
       "      <td>15</td>\n",
       "      <td>81</td>\n",
       "    </tr>\n",
       "    <tr>\n",
       "      <th>2</th>\n",
       "      <td>3</td>\n",
       "      <td>Female</td>\n",
       "      <td>20.0</td>\n",
       "      <td>16</td>\n",
       "      <td>6</td>\n",
       "    </tr>\n",
       "    <tr>\n",
       "      <th>3</th>\n",
       "      <td>4</td>\n",
       "      <td>Female</td>\n",
       "      <td>NaN</td>\n",
       "      <td>16</td>\n",
       "      <td>77</td>\n",
       "    </tr>\n",
       "    <tr>\n",
       "      <th>4</th>\n",
       "      <td>5</td>\n",
       "      <td>Female</td>\n",
       "      <td>31.0</td>\n",
       "      <td>17</td>\n",
       "      <td>40</td>\n",
       "    </tr>\n",
       "    <tr>\n",
       "      <th>5</th>\n",
       "      <td>6</td>\n",
       "      <td>Female</td>\n",
       "      <td>22.0</td>\n",
       "      <td>17</td>\n",
       "      <td>76</td>\n",
       "    </tr>\n",
       "    <tr>\n",
       "      <th>6</th>\n",
       "      <td>7</td>\n",
       "      <td>Female</td>\n",
       "      <td>35.0</td>\n",
       "      <td>18</td>\n",
       "      <td>6</td>\n",
       "    </tr>\n",
       "    <tr>\n",
       "      <th>7</th>\n",
       "      <td>8</td>\n",
       "      <td>Female</td>\n",
       "      <td>23.0</td>\n",
       "      <td>18</td>\n",
       "      <td>94</td>\n",
       "    </tr>\n",
       "    <tr>\n",
       "      <th>8</th>\n",
       "      <td>9</td>\n",
       "      <td>NaN</td>\n",
       "      <td>64.0</td>\n",
       "      <td>19</td>\n",
       "      <td>3</td>\n",
       "    </tr>\n",
       "    <tr>\n",
       "      <th>9</th>\n",
       "      <td>10</td>\n",
       "      <td>Female</td>\n",
       "      <td>30.0</td>\n",
       "      <td>19</td>\n",
       "      <td>72</td>\n",
       "    </tr>\n",
       "    <tr>\n",
       "      <th>10</th>\n",
       "      <td>11</td>\n",
       "      <td>Male</td>\n",
       "      <td>67.0</td>\n",
       "      <td>19</td>\n",
       "      <td>14</td>\n",
       "    </tr>\n",
       "    <tr>\n",
       "      <th>11</th>\n",
       "      <td>12</td>\n",
       "      <td>Female</td>\n",
       "      <td>35.0</td>\n",
       "      <td>19</td>\n",
       "      <td>99</td>\n",
       "    </tr>\n",
       "    <tr>\n",
       "      <th>12</th>\n",
       "      <td>13</td>\n",
       "      <td>Female</td>\n",
       "      <td>58.0</td>\n",
       "      <td>20</td>\n",
       "      <td>15</td>\n",
       "    </tr>\n",
       "    <tr>\n",
       "      <th>13</th>\n",
       "      <td>14</td>\n",
       "      <td>Female</td>\n",
       "      <td>24.0</td>\n",
       "      <td>20</td>\n",
       "      <td>77</td>\n",
       "    </tr>\n",
       "    <tr>\n",
       "      <th>14</th>\n",
       "      <td>15</td>\n",
       "      <td>Male</td>\n",
       "      <td>37.0</td>\n",
       "      <td>20</td>\n",
       "      <td>13</td>\n",
       "    </tr>\n",
       "  </tbody>\n",
       "</table>\n",
       "</div>"
      ],
      "text/plain": [
       "    CustomerID  Gender   Age  Income  Score\n",
       "0            1    Male  19.0      15     39\n",
       "1            2    Male  21.0      15     81\n",
       "2            3  Female  20.0      16      6\n",
       "3            4  Female   NaN      16     77\n",
       "4            5  Female  31.0      17     40\n",
       "5            6  Female  22.0      17     76\n",
       "6            7  Female  35.0      18      6\n",
       "7            8  Female  23.0      18     94\n",
       "8            9     NaN  64.0      19      3\n",
       "9           10  Female  30.0      19     72\n",
       "10          11    Male  67.0      19     14\n",
       "11          12  Female  35.0      19     99\n",
       "12          13  Female  58.0      20     15\n",
       "13          14  Female  24.0      20     77\n",
       "14          15    Male  37.0      20     13"
      ]
     },
     "execution_count": 10,
     "metadata": {},
     "output_type": "execute_result"
    }
   ],
   "source": [
    "print (\"\\nShowing a specified number of rows from the start\\n\")\n",
    "customers.head(15)"
   ]
  },
  {
   "cell_type": "markdown",
   "id": "e1c3eb04",
   "metadata": {},
   "source": [
    "## 2. Getting general overview on dataset"
   ]
  },
  {
   "cell_type": "code",
   "execution_count": 11,
   "id": "54113629",
   "metadata": {},
   "outputs": [
    {
     "data": {
      "text/plain": [
       "(200, 5)"
      ]
     },
     "execution_count": 11,
     "metadata": {},
     "output_type": "execute_result"
    }
   ],
   "source": [
    "customers.shape"
   ]
  },
  {
   "cell_type": "code",
   "execution_count": 12,
   "id": "e378184a",
   "metadata": {},
   "outputs": [
    {
     "data": {
      "text/plain": [
       "Index(['CustomerID', 'Gender', 'Age', 'Income', 'Score'], dtype='object')"
      ]
     },
     "execution_count": 12,
     "metadata": {},
     "output_type": "execute_result"
    }
   ],
   "source": [
    "customers.columns"
   ]
  },
  {
   "cell_type": "code",
   "execution_count": 13,
   "id": "b12a03a1",
   "metadata": {},
   "outputs": [
    {
     "data": {
      "text/plain": [
       "RangeIndex(start=0, stop=200, step=1)"
      ]
     },
     "execution_count": 13,
     "metadata": {},
     "output_type": "execute_result"
    }
   ],
   "source": [
    "customers.index"
   ]
  },
  {
   "cell_type": "code",
   "execution_count": 14,
   "id": "a18fd390",
   "metadata": {},
   "outputs": [
    {
     "name": "stdout",
     "output_type": "stream",
     "text": [
      "<class 'pandas.core.frame.DataFrame'>\n",
      "RangeIndex: 200 entries, 0 to 199\n",
      "Data columns (total 5 columns):\n",
      " #   Column      Non-Null Count  Dtype  \n",
      "---  ------      --------------  -----  \n",
      " 0   CustomerID  200 non-null    int64  \n",
      " 1   Gender      198 non-null    object \n",
      " 2   Age         197 non-null    float64\n",
      " 3   Income      200 non-null    int64  \n",
      " 4   Score       200 non-null    int64  \n",
      "dtypes: float64(1), int64(3), object(1)\n",
      "memory usage: 7.9+ KB\n"
     ]
    }
   ],
   "source": [
    "customers.info()"
   ]
  },
  {
   "cell_type": "code",
   "execution_count": 15,
   "id": "3429b566",
   "metadata": {},
   "outputs": [
    {
     "data": {
      "text/html": [
       "<div>\n",
       "<style scoped>\n",
       "    .dataframe tbody tr th:only-of-type {\n",
       "        vertical-align: middle;\n",
       "    }\n",
       "\n",
       "    .dataframe tbody tr th {\n",
       "        vertical-align: top;\n",
       "    }\n",
       "\n",
       "    .dataframe thead th {\n",
       "        text-align: right;\n",
       "    }\n",
       "</style>\n",
       "<table border=\"1\" class=\"dataframe\">\n",
       "  <thead>\n",
       "    <tr style=\"text-align: right;\">\n",
       "      <th></th>\n",
       "      <th>CustomerID</th>\n",
       "      <th>Age</th>\n",
       "      <th>Income</th>\n",
       "      <th>Score</th>\n",
       "    </tr>\n",
       "  </thead>\n",
       "  <tbody>\n",
       "    <tr>\n",
       "      <th>count</th>\n",
       "      <td>200.000000</td>\n",
       "      <td>197.000000</td>\n",
       "      <td>200.000000</td>\n",
       "      <td>200.000000</td>\n",
       "    </tr>\n",
       "    <tr>\n",
       "      <th>mean</th>\n",
       "      <td>100.500000</td>\n",
       "      <td>38.918782</td>\n",
       "      <td>60.560000</td>\n",
       "      <td>50.200000</td>\n",
       "    </tr>\n",
       "    <tr>\n",
       "      <th>std</th>\n",
       "      <td>57.879185</td>\n",
       "      <td>14.020157</td>\n",
       "      <td>26.264721</td>\n",
       "      <td>25.823522</td>\n",
       "    </tr>\n",
       "    <tr>\n",
       "      <th>min</th>\n",
       "      <td>1.000000</td>\n",
       "      <td>18.000000</td>\n",
       "      <td>15.000000</td>\n",
       "      <td>1.000000</td>\n",
       "    </tr>\n",
       "    <tr>\n",
       "      <th>25%</th>\n",
       "      <td>50.750000</td>\n",
       "      <td>29.000000</td>\n",
       "      <td>41.500000</td>\n",
       "      <td>34.750000</td>\n",
       "    </tr>\n",
       "    <tr>\n",
       "      <th>50%</th>\n",
       "      <td>100.500000</td>\n",
       "      <td>36.000000</td>\n",
       "      <td>61.500000</td>\n",
       "      <td>50.000000</td>\n",
       "    </tr>\n",
       "    <tr>\n",
       "      <th>75%</th>\n",
       "      <td>150.250000</td>\n",
       "      <td>49.000000</td>\n",
       "      <td>78.000000</td>\n",
       "      <td>73.000000</td>\n",
       "    </tr>\n",
       "    <tr>\n",
       "      <th>max</th>\n",
       "      <td>200.000000</td>\n",
       "      <td>70.000000</td>\n",
       "      <td>137.000000</td>\n",
       "      <td>99.000000</td>\n",
       "    </tr>\n",
       "  </tbody>\n",
       "</table>\n",
       "</div>"
      ],
      "text/plain": [
       "       CustomerID         Age      Income       Score\n",
       "count  200.000000  197.000000  200.000000  200.000000\n",
       "mean   100.500000   38.918782   60.560000   50.200000\n",
       "std     57.879185   14.020157   26.264721   25.823522\n",
       "min      1.000000   18.000000   15.000000    1.000000\n",
       "25%     50.750000   29.000000   41.500000   34.750000\n",
       "50%    100.500000   36.000000   61.500000   50.000000\n",
       "75%    150.250000   49.000000   78.000000   73.000000\n",
       "max    200.000000   70.000000  137.000000   99.000000"
      ]
     },
     "execution_count": 15,
     "metadata": {},
     "output_type": "execute_result"
    }
   ],
   "source": [
    "customers.describe()"
   ]
  },
  {
   "cell_type": "markdown",
   "id": "ef92bb3d",
   "metadata": {},
   "source": [
    "## 3. Accessing rows and columns"
   ]
  },
  {
   "cell_type": "code",
   "execution_count": 16,
   "id": "209ad472",
   "metadata": {},
   "outputs": [
    {
     "name": "stdout",
     "output_type": "stream",
     "text": [
      "             Name  Age Department\n",
      "Employee1    Emma   29         HR\n",
      "Employee2  Oliver   25    Finance\n",
      "Employee3   Harry   33  Marketing\n",
      "Employee4  Sophia   24         IT\n"
     ]
    }
   ],
   "source": [
    "list_of_dictionaries = [\n",
    "    {'Name': 'Emma', 'Age': 29, 'Department': 'HR'},\n",
    "    {'Name': 'Oliver', 'Age': 25, 'Department': 'Finance'},\n",
    "    {'Name': 'Harry', 'Age': 33, 'Department': 'Marketing'},\n",
    "    {'Name': 'Sophia', 'Age': 24, 'Department': 'IT'}]\n",
    "df = pd.DataFrame(list_of_dictionaries, index=['Employee1', 'Employee2', 'Employee3', 'Employee4'])\n",
    "print (df)"
   ]
  },
  {
   "cell_type": "code",
   "execution_count": 17,
   "id": "e6faea69",
   "metadata": {},
   "outputs": [
    {
     "name": "stdout",
     "output_type": "stream",
     "text": [
      "Employee1      Emma\n",
      "Employee2    Oliver\n",
      "Employee3     Harry\n",
      "Employee4    Sophia\n",
      "Name: Name, dtype: object\n",
      "<class 'pandas.core.series.Series'>\n"
     ]
    }
   ],
   "source": [
    "name_col = df['Name']\n",
    "print(name_col)\n",
    "print(type(name_col))\n"
   ]
  },
  {
   "cell_type": "code",
   "execution_count": 18,
   "id": "092f4b90",
   "metadata": {},
   "outputs": [
    {
     "name": "stdout",
     "output_type": "stream",
     "text": [
      "             Name Department\n",
      "Employee1    Emma         HR\n",
      "Employee2  Oliver    Finance\n",
      "Employee3   Harry  Marketing\n",
      "Employee4  Sophia         IT\n",
      "<class 'pandas.core.frame.DataFrame'>\n"
     ]
    }
   ],
   "source": [
    "multiple_cols = df[['Name','Department']]\n",
    "print (multiple_cols)\n",
    "print (type(multiple_cols))"
   ]
  },
  {
   "cell_type": "code",
   "execution_count": 19,
   "id": "adac44e2",
   "metadata": {},
   "outputs": [
    {
     "name": "stdout",
     "output_type": "stream",
     "text": [
      "Name           Oliver\n",
      "Age                25\n",
      "Department    Finance\n",
      "Name: Employee2, dtype: object\n",
      "<class 'pandas.core.series.Series'>\n"
     ]
    }
   ],
   "source": [
    "single_row = df.loc[\"Employee2\"]\n",
    "print (single_row)\n",
    "print (type(single_row))"
   ]
  },
  {
   "cell_type": "code",
   "execution_count": 20,
   "id": "870c58a2",
   "metadata": {},
   "outputs": [
    {
     "name": "stdout",
     "output_type": "stream",
     "text": [
      "Name          Sophia\n",
      "Age               24\n",
      "Department        IT\n",
      "Name: Employee4, dtype: object\n",
      "<class 'pandas.core.series.Series'>\n"
     ]
    }
   ],
   "source": [
    "single_row = df.iloc[3]\n",
    "print (single_row)\n",
    "print (type(single_row))"
   ]
  },
  {
   "cell_type": "markdown",
   "id": "9fad21c5",
   "metadata": {},
   "source": [
    "## 4. Slicing rows and columns"
   ]
  },
  {
   "cell_type": "code",
   "execution_count": 21,
   "id": "08d06c31",
   "metadata": {},
   "outputs": [
    {
     "name": "stdout",
     "output_type": "stream",
     "text": [
      "             Name  Age Department\n",
      "Employee1    Emma   29         HR\n",
      "Employee2  Oliver   25    Finance\n",
      "Employee3   Harry   33  Marketing\n",
      "Employee4  Sophia   24         IT\n"
     ]
    }
   ],
   "source": [
    "list_of_dictionaries = [\n",
    "    {'Name': 'Emma', 'Age': 29, 'Department': 'HR'},\n",
    "    {'Name': 'Oliver', 'Age': 25, 'Department': 'Finance'},\n",
    "    {'Name': 'Harry', 'Age': 33, 'Department': 'Marketing'},\n",
    "    {'Name': 'Sophia', 'Age': 24, 'Department': 'IT'}]\n",
    "df = pd.DataFrame(list_of_dictionaries, index=['Employee1', 'Employee2', 'Employee3', 'Employee4'])\n",
    "print (df)"
   ]
  },
  {
   "cell_type": "code",
   "execution_count": 22,
   "id": "2d4a4da3",
   "metadata": {},
   "outputs": [
    {
     "name": "stdout",
     "output_type": "stream",
     "text": [
      "             Name  Age Department\n",
      "Employee1    Emma   29         HR\n",
      "Employee2  Oliver   25    Finance\n",
      "Employee3   Harry   33  Marketing\n"
     ]
    }
   ],
   "source": [
    "multiple_rows = df['Employee1':'Employee3']\n",
    "print (multiple_rows)"
   ]
  },
  {
   "cell_type": "code",
   "execution_count": 23,
   "id": "b6c79c27",
   "metadata": {},
   "outputs": [
    {
     "name": "stdout",
     "output_type": "stream",
     "text": [
      "             Name  Age Department\n",
      "Employee2  Oliver   25    Finance\n",
      "Employee3   Harry   33  Marketing\n"
     ]
    }
   ],
   "source": [
    "multiple_rows = df.iloc[1:3]\n",
    "print (multiple_rows)"
   ]
  },
  {
   "cell_type": "code",
   "execution_count": 24,
   "id": "10689f43",
   "metadata": {},
   "outputs": [
    {
     "name": "stdout",
     "output_type": "stream",
     "text": [
      "\n",
      "From the starting row until one row before row #8\n",
      "\n"
     ]
    },
    {
     "data": {
      "text/html": [
       "<div>\n",
       "<style scoped>\n",
       "    .dataframe tbody tr th:only-of-type {\n",
       "        vertical-align: middle;\n",
       "    }\n",
       "\n",
       "    .dataframe tbody tr th {\n",
       "        vertical-align: top;\n",
       "    }\n",
       "\n",
       "    .dataframe thead th {\n",
       "        text-align: right;\n",
       "    }\n",
       "</style>\n",
       "<table border=\"1\" class=\"dataframe\">\n",
       "  <thead>\n",
       "    <tr style=\"text-align: right;\">\n",
       "      <th></th>\n",
       "      <th>CustomerID</th>\n",
       "      <th>Gender</th>\n",
       "      <th>Age</th>\n",
       "      <th>Income</th>\n",
       "      <th>Score</th>\n",
       "    </tr>\n",
       "  </thead>\n",
       "  <tbody>\n",
       "    <tr>\n",
       "      <th>0</th>\n",
       "      <td>1</td>\n",
       "      <td>Male</td>\n",
       "      <td>19.0</td>\n",
       "      <td>15</td>\n",
       "      <td>39</td>\n",
       "    </tr>\n",
       "    <tr>\n",
       "      <th>1</th>\n",
       "      <td>2</td>\n",
       "      <td>Male</td>\n",
       "      <td>21.0</td>\n",
       "      <td>15</td>\n",
       "      <td>81</td>\n",
       "    </tr>\n",
       "    <tr>\n",
       "      <th>2</th>\n",
       "      <td>3</td>\n",
       "      <td>Female</td>\n",
       "      <td>20.0</td>\n",
       "      <td>16</td>\n",
       "      <td>6</td>\n",
       "    </tr>\n",
       "    <tr>\n",
       "      <th>3</th>\n",
       "      <td>4</td>\n",
       "      <td>Female</td>\n",
       "      <td>NaN</td>\n",
       "      <td>16</td>\n",
       "      <td>77</td>\n",
       "    </tr>\n",
       "    <tr>\n",
       "      <th>4</th>\n",
       "      <td>5</td>\n",
       "      <td>Female</td>\n",
       "      <td>31.0</td>\n",
       "      <td>17</td>\n",
       "      <td>40</td>\n",
       "    </tr>\n",
       "    <tr>\n",
       "      <th>5</th>\n",
       "      <td>6</td>\n",
       "      <td>Female</td>\n",
       "      <td>22.0</td>\n",
       "      <td>17</td>\n",
       "      <td>76</td>\n",
       "    </tr>\n",
       "    <tr>\n",
       "      <th>6</th>\n",
       "      <td>7</td>\n",
       "      <td>Female</td>\n",
       "      <td>35.0</td>\n",
       "      <td>18</td>\n",
       "      <td>6</td>\n",
       "    </tr>\n",
       "    <tr>\n",
       "      <th>7</th>\n",
       "      <td>8</td>\n",
       "      <td>Female</td>\n",
       "      <td>23.0</td>\n",
       "      <td>18</td>\n",
       "      <td>94</td>\n",
       "    </tr>\n",
       "  </tbody>\n",
       "</table>\n",
       "</div>"
      ],
      "text/plain": [
       "   CustomerID  Gender   Age  Income  Score\n",
       "0           1    Male  19.0      15     39\n",
       "1           2    Male  21.0      15     81\n",
       "2           3  Female  20.0      16      6\n",
       "3           4  Female   NaN      16     77\n",
       "4           5  Female  31.0      17     40\n",
       "5           6  Female  22.0      17     76\n",
       "6           7  Female  35.0      18      6\n",
       "7           8  Female  23.0      18     94"
      ]
     },
     "execution_count": 24,
     "metadata": {},
     "output_type": "execute_result"
    }
   ],
   "source": [
    "print (\"\\nFrom the starting row until one row before row #8\\n\")\n",
    "customers.iloc[:8]"
   ]
  },
  {
   "cell_type": "code",
   "execution_count": 25,
   "id": "ff84b17a",
   "metadata": {},
   "outputs": [
    {
     "name": "stdout",
     "output_type": "stream",
     "text": [
      "\n",
      "All the rows from column 1 to 3\n",
      "\n"
     ]
    },
    {
     "data": {
      "text/html": [
       "<div>\n",
       "<style scoped>\n",
       "    .dataframe tbody tr th:only-of-type {\n",
       "        vertical-align: middle;\n",
       "    }\n",
       "\n",
       "    .dataframe tbody tr th {\n",
       "        vertical-align: top;\n",
       "    }\n",
       "\n",
       "    .dataframe thead th {\n",
       "        text-align: right;\n",
       "    }\n",
       "</style>\n",
       "<table border=\"1\" class=\"dataframe\">\n",
       "  <thead>\n",
       "    <tr style=\"text-align: right;\">\n",
       "      <th></th>\n",
       "      <th>Gender</th>\n",
       "      <th>Age</th>\n",
       "      <th>Income</th>\n",
       "    </tr>\n",
       "  </thead>\n",
       "  <tbody>\n",
       "    <tr>\n",
       "      <th>0</th>\n",
       "      <td>Male</td>\n",
       "      <td>19.0</td>\n",
       "      <td>15</td>\n",
       "    </tr>\n",
       "    <tr>\n",
       "      <th>1</th>\n",
       "      <td>Male</td>\n",
       "      <td>21.0</td>\n",
       "      <td>15</td>\n",
       "    </tr>\n",
       "    <tr>\n",
       "      <th>2</th>\n",
       "      <td>Female</td>\n",
       "      <td>20.0</td>\n",
       "      <td>16</td>\n",
       "    </tr>\n",
       "    <tr>\n",
       "      <th>3</th>\n",
       "      <td>Female</td>\n",
       "      <td>NaN</td>\n",
       "      <td>16</td>\n",
       "    </tr>\n",
       "    <tr>\n",
       "      <th>4</th>\n",
       "      <td>Female</td>\n",
       "      <td>31.0</td>\n",
       "      <td>17</td>\n",
       "    </tr>\n",
       "    <tr>\n",
       "      <th>...</th>\n",
       "      <td>...</td>\n",
       "      <td>...</td>\n",
       "      <td>...</td>\n",
       "    </tr>\n",
       "    <tr>\n",
       "      <th>195</th>\n",
       "      <td>Female</td>\n",
       "      <td>35.0</td>\n",
       "      <td>120</td>\n",
       "    </tr>\n",
       "    <tr>\n",
       "      <th>196</th>\n",
       "      <td>Female</td>\n",
       "      <td>45.0</td>\n",
       "      <td>126</td>\n",
       "    </tr>\n",
       "    <tr>\n",
       "      <th>197</th>\n",
       "      <td>Male</td>\n",
       "      <td>32.0</td>\n",
       "      <td>126</td>\n",
       "    </tr>\n",
       "    <tr>\n",
       "      <th>198</th>\n",
       "      <td>Male</td>\n",
       "      <td>32.0</td>\n",
       "      <td>137</td>\n",
       "    </tr>\n",
       "    <tr>\n",
       "      <th>199</th>\n",
       "      <td>Male</td>\n",
       "      <td>30.0</td>\n",
       "      <td>137</td>\n",
       "    </tr>\n",
       "  </tbody>\n",
       "</table>\n",
       "<p>200 rows × 3 columns</p>\n",
       "</div>"
      ],
      "text/plain": [
       "     Gender   Age  Income\n",
       "0      Male  19.0      15\n",
       "1      Male  21.0      15\n",
       "2    Female  20.0      16\n",
       "3    Female   NaN      16\n",
       "4    Female  31.0      17\n",
       "..      ...   ...     ...\n",
       "195  Female  35.0     120\n",
       "196  Female  45.0     126\n",
       "197    Male  32.0     126\n",
       "198    Male  32.0     137\n",
       "199    Male  30.0     137\n",
       "\n",
       "[200 rows x 3 columns]"
      ]
     },
     "execution_count": 25,
     "metadata": {},
     "output_type": "execute_result"
    }
   ],
   "source": [
    "print (\"\\nAll the rows from column 1 to 3\\n\")\n",
    "customers.iloc[: , 1: 4]"
   ]
  },
  {
   "cell_type": "code",
   "execution_count": 26,
   "id": "bada504d",
   "metadata": {},
   "outputs": [
    {
     "name": "stdout",
     "output_type": "stream",
     "text": [
      "\n",
      "From row 2 to 4 and from column 0 to 2\n",
      "\n"
     ]
    },
    {
     "data": {
      "text/html": [
       "<div>\n",
       "<style scoped>\n",
       "    .dataframe tbody tr th:only-of-type {\n",
       "        vertical-align: middle;\n",
       "    }\n",
       "\n",
       "    .dataframe tbody tr th {\n",
       "        vertical-align: top;\n",
       "    }\n",
       "\n",
       "    .dataframe thead th {\n",
       "        text-align: right;\n",
       "    }\n",
       "</style>\n",
       "<table border=\"1\" class=\"dataframe\">\n",
       "  <thead>\n",
       "    <tr style=\"text-align: right;\">\n",
       "      <th></th>\n",
       "      <th>CustomerID</th>\n",
       "      <th>Gender</th>\n",
       "      <th>Age</th>\n",
       "    </tr>\n",
       "  </thead>\n",
       "  <tbody>\n",
       "    <tr>\n",
       "      <th>2</th>\n",
       "      <td>3</td>\n",
       "      <td>Female</td>\n",
       "      <td>20.0</td>\n",
       "    </tr>\n",
       "    <tr>\n",
       "      <th>3</th>\n",
       "      <td>4</td>\n",
       "      <td>Female</td>\n",
       "      <td>NaN</td>\n",
       "    </tr>\n",
       "    <tr>\n",
       "      <th>4</th>\n",
       "      <td>5</td>\n",
       "      <td>Female</td>\n",
       "      <td>31.0</td>\n",
       "    </tr>\n",
       "  </tbody>\n",
       "</table>\n",
       "</div>"
      ],
      "text/plain": [
       "   CustomerID  Gender   Age\n",
       "2           3  Female  20.0\n",
       "3           4  Female   NaN\n",
       "4           5  Female  31.0"
      ]
     },
     "execution_count": 26,
     "metadata": {},
     "output_type": "execute_result"
    }
   ],
   "source": [
    "print (\"\\nFrom row 2 to 4 and from column 0 to 2\\n\")\n",
    "customers.iloc[2 : 5 , 0: 3]"
   ]
  },
  {
   "cell_type": "code",
   "execution_count": 27,
   "id": "e597c1d5",
   "metadata": {},
   "outputs": [
    {
     "name": "stdout",
     "output_type": "stream",
     "text": [
      "0      39\n",
      "1      81\n",
      "2       6\n",
      "3      77\n",
      "4      40\n",
      "       ..\n",
      "195    79\n",
      "196    28\n",
      "197    74\n",
      "198    18\n",
      "199    83\n",
      "Name: Score, Length: 200, dtype: int64\n",
      "<class 'pandas.core.series.Series'>\n"
     ]
    }
   ],
   "source": [
    "finalCol = customers.iloc[: , -1]\n",
    "print (finalCol)\n",
    "print (type(finalCol))"
   ]
  },
  {
   "cell_type": "code",
   "execution_count": 28,
   "id": "d5063bd8",
   "metadata": {},
   "outputs": [
    {
     "name": "stdout",
     "output_type": "stream",
     "text": [
      "     CustomerID  Gender   Age  Income\n",
      "0             1    Male  19.0      15\n",
      "1             2    Male  21.0      15\n",
      "2             3  Female  20.0      16\n",
      "3             4  Female   NaN      16\n",
      "4             5  Female  31.0      17\n",
      "..          ...     ...   ...     ...\n",
      "195         196  Female  35.0     120\n",
      "196         197  Female  45.0     126\n",
      "197         198    Male  32.0     126\n",
      "198         199    Male  32.0     137\n",
      "199         200    Male  30.0     137\n",
      "\n",
      "[200 rows x 4 columns]\n",
      "<class 'pandas.core.frame.DataFrame'>\n"
     ]
    }
   ],
   "source": [
    "allExceptLast = customers.iloc[ : , : -1]\n",
    "print (allExceptLast)\n",
    "print (type(allExceptLast))"
   ]
  },
  {
   "cell_type": "code",
   "execution_count": null,
   "id": "af92a88e",
   "metadata": {},
   "outputs": [],
   "source": []
  }
 ],
 "metadata": {
  "kernelspec": {
   "display_name": "Python 3 (ipykernel)",
   "language": "python",
   "name": "python3"
  },
  "language_info": {
   "codemirror_mode": {
    "name": "ipython",
    "version": 3
   },
   "file_extension": ".py",
   "mimetype": "text/x-python",
   "name": "python",
   "nbconvert_exporter": "python",
   "pygments_lexer": "ipython3",
   "version": "3.9.13"
  }
 },
 "nbformat": 4,
 "nbformat_minor": 5
}
