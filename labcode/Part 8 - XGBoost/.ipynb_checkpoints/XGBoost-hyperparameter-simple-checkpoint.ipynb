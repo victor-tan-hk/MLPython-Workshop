{
 "cells": [
  {
   "cell_type": "code",
   "execution_count": 10,
   "id": "55681230",
   "metadata": {},
   "outputs": [],
   "source": [
    "import xgboost as xgb\n",
    "import pandas as pd\n",
    "from sklearn.model_selection import GridSearchCV\n",
    "from sklearn.datasets import load_boston\n",
    "from sklearn.model_selection import train_test_split\n",
    "from sklearn.metrics import mean_squared_error"
   ]
  },
  {
   "cell_type": "markdown",
   "id": "bcf7356c",
   "metadata": {},
   "source": [
    "## Basic hyperparameter tuning example"
   ]
  },
  {
   "cell_type": "code",
   "execution_count": 11,
   "id": "acea737d",
   "metadata": {},
   "outputs": [],
   "source": [
    "boston = load_boston()\n",
    "X, y = boston.data, boston.target\n",
    "dmatrix = xgb.DMatrix(data= X, label=y)"
   ]
  },
  {
   "cell_type": "code",
   "execution_count": 12,
   "id": "7c2623b7",
   "metadata": {},
   "outputs": [],
   "source": [
    "params={ 'objective':'reg:squarederror',\n",
    "         'max_depth': 6, \n",
    "         'colsample_bylevel':0.5,\n",
    "         'learning_rate':0.01,\n",
    "         'random_state':20}\n",
    "cv_results = xgb.cv(dtrain=dmatrix, params=params, nfold=10, metrics={'rmse'}, as_pandas=True, seed=20, num_boost_round=1000)"
   ]
  },
  {
   "cell_type": "code",
   "execution_count": 13,
   "id": "1eef6ea4",
   "metadata": {},
   "outputs": [
    {
     "name": "stdout",
     "output_type": "stream",
     "text": [
      "RMSE: 2.73\n"
     ]
    }
   ],
   "source": [
    "print('RMSE: %.2f' % cv_results['test-rmse-mean'].min())\n"
   ]
  },
  {
   "cell_type": "code",
   "execution_count": null,
   "id": "151cf764",
   "metadata": {},
   "outputs": [],
   "source": []
  }
 ],
 "metadata": {
  "kernelspec": {
   "display_name": "Python 3 (ipykernel)",
   "language": "python",
   "name": "python3"
  },
  "language_info": {
   "codemirror_mode": {
    "name": "ipython",
    "version": 3
   },
   "file_extension": ".py",
   "mimetype": "text/x-python",
   "name": "python",
   "nbconvert_exporter": "python",
   "pygments_lexer": "ipython3",
   "version": "3.9.13"
  }
 },
 "nbformat": 4,
 "nbformat_minor": 5
}
