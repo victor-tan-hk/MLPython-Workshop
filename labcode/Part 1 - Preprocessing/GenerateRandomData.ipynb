{
 "cells": [
  {
   "cell_type": "code",
   "execution_count": 1,
   "id": "bf604890-0fe5-4d48-8d71-8d4397fabbe8",
   "metadata": {},
   "outputs": [],
   "source": [
    "import csv\n",
    "import random"
   ]
  },
  {
   "cell_type": "code",
   "execution_count": 2,
   "id": "20ec00f6-b412-4457-b8a4-52ce3b426339",
   "metadata": {},
   "outputs": [],
   "source": [
    "# Configuration\n",
    "num_rows = 100  # Specify the number of rows here\n",
    "csv_filename = \"generated_data.csv\""
   ]
  },
  {
   "cell_type": "code",
   "execution_count": 3,
   "id": "0d8dbbda-2a40-4211-993a-29d2404e91dd",
   "metadata": {},
   "outputs": [],
   "source": [
    "# Column data generators\n",
    "def generate_country():\n",
    "    return random.choice([\"Spain\", \"France\", \"Germany\"])\n",
    "\n",
    "def generate_age():\n",
    "    return random.randint(20, 80)\n",
    "\n",
    "def generate_salary():\n",
    "    return random.randint(10, 100) * 1000\n",
    "\n",
    "def generate_purchased():\n",
    "    return random.choice([\"Yes\", \"No\"])\n",
    "\n",
    "def generate_cost():\n",
    "    return random.randint(10, 100) * 10\n",
    "\n",
    "def generate_days():\n",
    "    return random.randint(1, 20)"
   ]
  },
  {
   "cell_type": "code",
   "execution_count": 4,
   "id": "94a43f09-4932-447d-bb9e-ac5fd642bfd3",
   "metadata": {},
   "outputs": [],
   "source": [
    "# Generate CSV Data\n",
    "data = []\n",
    "for _ in range(num_rows):\n",
    "    row = [\n",
    "        generate_country(),\n",
    "        generate_age(),\n",
    "        generate_salary(),\n",
    "        generate_purchased(),\n",
    "        generate_cost(),\n",
    "        generate_days()\n",
    "    ]\n",
    "    data.append(row)"
   ]
  },
  {
   "cell_type": "code",
   "execution_count": 5,
   "id": "6439d726-7670-4a8d-8015-b02c23a7e74a",
   "metadata": {},
   "outputs": [
    {
     "name": "stdout",
     "output_type": "stream",
     "text": [
      "CSV file 'generated_data.csv' with 100 rows has been created.\n"
     ]
    }
   ],
   "source": [
    "# Write to CSV\n",
    "with open(csv_filename, mode='w', newline='') as file:\n",
    "    writer = csv.writer(file)\n",
    "    # Writing the header\n",
    "    writer.writerow([\"Country\", \"Age\", \"Salary\", \"Purchased\", \"Cost\", \"Days\"])\n",
    "    # Writing the data rows\n",
    "    writer.writerows(data)\n",
    "\n",
    "print(f\"CSV file '{csv_filename}' with {num_rows} rows has been created.\")"
   ]
  },
  {
   "cell_type": "code",
   "execution_count": null,
   "id": "2ccb478a-4347-4e93-92fe-40cccf84453f",
   "metadata": {},
   "outputs": [],
   "source": []
  }
 ],
 "metadata": {
  "kernelspec": {
   "display_name": "Python 3 (ipykernel)",
   "language": "python",
   "name": "python3"
  },
  "language_info": {
   "codemirror_mode": {
    "name": "ipython",
    "version": 3
   },
   "file_extension": ".py",
   "mimetype": "text/x-python",
   "name": "python",
   "nbconvert_exporter": "python",
   "pygments_lexer": "ipython3",
   "version": "3.11.7"
  }
 },
 "nbformat": 4,
 "nbformat_minor": 5
}
