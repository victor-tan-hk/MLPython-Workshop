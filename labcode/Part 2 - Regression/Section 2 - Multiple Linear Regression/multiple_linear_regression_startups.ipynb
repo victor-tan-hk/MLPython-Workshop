{
 "cells": [
  {
   "cell_type": "markdown",
   "metadata": {
    "colab_type": "text",
    "id": "CazISR8X_HUG"
   },
   "source": [
    "# Multiple Linear Regression for Startups "
   ]
  },
  {
   "cell_type": "markdown",
   "metadata": {
    "colab_type": "text",
    "id": "pOyqYHTk_Q57"
   },
   "source": [
    "## Importing the libraries"
   ]
  },
  {
   "cell_type": "code",
   "execution_count": 23,
   "metadata": {
    "colab": {},
    "colab_type": "code",
    "id": "T_YHJjnD_Tja"
   },
   "outputs": [],
   "source": [
    "import numpy as np\n",
    "import matplotlib.pyplot as plt\n",
    "import pandas as pd"
   ]
  },
  {
   "cell_type": "markdown",
   "metadata": {
    "colab_type": "text",
    "id": "vgC61-ah_WIz"
   },
   "source": [
    "## Importing the dataset\n",
    "\n",
    "To make things simple, we usually structure the dataset so that the target variable column is the last column in the table\n",
    "\n",
    "*  **X typically denotes the feature variables**, which are all the columns in the table except the last one\n",
    "* **y typically denotes the single target variable**, which is the last column in the table"
   ]
  },
  {
   "cell_type": "code",
   "execution_count": 24,
   "metadata": {
    "colab": {},
    "colab_type": "code",
    "id": "UrxyEKGn_ez7"
   },
   "outputs": [],
   "source": [
    "df = pd.read_csv('Startups.csv')\n",
    "df.index = df.index + 1 # Start index from 1 instead of 0, just to make it easier to interpret data\n",
    "X = df.iloc[  :  , :-1] # Accesses all columns except the last\n",
    "y = df.iloc[  :  , -1]  # Accesses the last column"
   ]
  },
  {
   "cell_type": "code",
   "execution_count": 25,
   "metadata": {
    "colab": {
     "base_uri": "https://localhost:8080/",
     "height": 857
    },
    "colab_type": "code",
    "executionInfo": {
     "elapsed": 552,
     "status": "ok",
     "timestamp": 1586353652778,
     "user": {
      "displayName": "Hadelin de Ponteves",
      "photoUrl": "https://lh3.googleusercontent.com/a-/AOh14GhEuXdT7eQweUmRPW8_laJuPggSK6hfvpl5a6WBaA=s64",
      "userId": "15047218817161520419"
     },
     "user_tz": -240
    },
    "id": "GOB3QhV9B5kD",
    "outputId": "4a05377a-2db2-43fc-b824-a0710448baee"
   },
   "outputs": [
    {
     "name": "stdout",
     "output_type": "stream",
     "text": [
      "Feature variables of the entire dataset\n",
      "          RnD      Admin  Marketing       State\n",
      "1   165349.20  136897.80  471784.10    New York\n",
      "2   162597.70  151377.59  443898.53  California\n",
      "3   153441.51  101145.55  407934.54     Florida\n",
      "4   144372.41  118671.85  383199.62    New York\n",
      "5   142107.34   91391.77  366168.42     Florida\n",
      "6   131876.90   99814.71  362861.36    New York\n",
      "7   134615.46  147198.87  127716.82  California\n",
      "8   130298.13  145530.06  323876.68     Florida\n",
      "9   120542.52  148718.95  311613.29    New York\n",
      "10  123334.88  108679.17  304981.62  California\n",
      "11  101913.08  110594.11  229160.95     Florida\n",
      "12  100671.96   91790.61  249744.55  California\n",
      "13   93863.75  127320.38  249839.44     Florida\n",
      "14   91992.39  135495.07  252664.93  California\n",
      "15  119943.24  156547.42  256512.92     Florida\n",
      "16  114523.61  122616.84  261776.23    New York\n",
      "17   78013.11  121597.55  264346.06  California\n",
      "18   94657.16  145077.58  282574.31    New York\n",
      "19   91749.16  114175.79  294919.57     Florida\n",
      "20   86419.70  153514.11  281574.31    New York\n",
      "21   76253.86  113867.30  298664.47  California\n",
      "22   78389.47  153773.43  299737.29    New York\n",
      "23   73994.56  122782.75  303319.26     Florida\n",
      "24   67532.53  105751.03  304768.73     Florida\n",
      "25   77044.01   99281.34  140574.81    New York\n",
      "26   64664.71  139553.16  137962.62  California\n",
      "27   75328.87  144135.98  134050.07     Florida\n",
      "28   72107.60  127864.55  353183.81    New York\n",
      "29   66051.52  182645.56  118148.20     Florida\n",
      "30   65605.48  153032.06  107138.38    New York\n",
      "31   61994.48  115641.28   91131.24     Florida\n",
      "32   61136.38  152701.92   88218.23    New York\n",
      "33   63408.86  129219.61   46085.25  California\n",
      "34   55493.95  103057.49  214634.81     Florida\n",
      "35   46426.07  157693.92  210797.67  California\n",
      "36   46014.02   85047.44  205517.64    New York\n",
      "37   28663.76  127056.21  201126.82     Florida\n",
      "38   44069.95   51283.14  197029.42  California\n",
      "39   20229.59   65947.93  185265.10    New York\n",
      "40   38558.51   82982.09  174999.30  California\n",
      "41   28754.33  118546.05  172795.67  California\n",
      "42   27892.92   84710.77  164470.71     Florida\n",
      "43   23640.93   96189.63  148001.11  California\n",
      "44   15505.73  127382.30   35534.17    New York\n",
      "45   22177.74  154806.14   28334.72  California\n",
      "46    1000.23  124153.04    1903.93    New York\n",
      "47    1315.46  115816.21  297114.46     Florida\n",
      "48   14505.73  135426.92   35634.17  California\n",
      "49     542.05   51743.15  165265.10    New York\n",
      "50   59808.86  116983.80   45173.06  California\n",
      "<class 'pandas.core.frame.DataFrame'>\n"
     ]
    }
   ],
   "source": [
    "print (\"Feature variables of the entire dataset\")\n",
    "print(X)\n",
    "print (type(X))"
   ]
  },
  {
   "cell_type": "code",
   "execution_count": 26,
   "metadata": {},
   "outputs": [
    {
     "name": "stdout",
     "output_type": "stream",
     "text": [
      "Target variable of the entire dataset\n",
      "1     192261.83\n",
      "2     191792.06\n",
      "3     191050.39\n",
      "4     182901.99\n",
      "5     166187.94\n",
      "6     156991.12\n",
      "7     156122.51\n",
      "8     155752.60\n",
      "9     152211.77\n",
      "10    149759.96\n",
      "11    146121.95\n",
      "12    144259.40\n",
      "13    141585.52\n",
      "14    134307.35\n",
      "15    132602.65\n",
      "16    129917.04\n",
      "17    126992.93\n",
      "18    125370.37\n",
      "19    124266.90\n",
      "20    122776.86\n",
      "21    118474.03\n",
      "22    111313.02\n",
      "23    110352.25\n",
      "24    108733.99\n",
      "25    108552.04\n",
      "26    107404.34\n",
      "27    105733.54\n",
      "28    105008.31\n",
      "29    103282.38\n",
      "30    101004.64\n",
      "31     99937.59\n",
      "32     97483.56\n",
      "33     97427.84\n",
      "34     96778.92\n",
      "35     96712.80\n",
      "36     96479.51\n",
      "37     90708.19\n",
      "38     89949.14\n",
      "39     81229.06\n",
      "40     81005.76\n",
      "41     78239.91\n",
      "42     77798.83\n",
      "43     71498.49\n",
      "44     69758.98\n",
      "45     65200.33\n",
      "46     64926.08\n",
      "47     49490.75\n",
      "48     42559.73\n",
      "49     35673.41\n",
      "50     14681.40\n",
      "Name: Profit, dtype: float64\n",
      "<class 'pandas.core.series.Series'>\n"
     ]
    }
   ],
   "source": [
    "print (\"Target variable of the entire dataset\")\n",
    "print (y)\n",
    "print (type(y))"
   ]
  },
  {
   "cell_type": "markdown",
   "metadata": {
    "colab_type": "text",
    "id": "VadrvE7s_lS9"
   },
   "source": [
    "## Perform dummy encoding on categorical variables in dataset\n",
    "\n",
    "Here, there is only one categorical variable column, State.\n"
   ]
  },
  {
   "cell_type": "code",
   "execution_count": 27,
   "metadata": {
    "colab": {},
    "colab_type": "code",
    "id": "wV3fD1mbAvsh"
   },
   "outputs": [
    {
     "name": "stdout",
     "output_type": "stream",
     "text": [
      "Feature variables after dummy encoding on the State column\n",
      "       RnD   Admin  Marketing  State_Florida  State_New York\n",
      "1   165349  136897     471784              0               1\n",
      "2   162597  151377     443898              0               0\n",
      "3   153441  101145     407934              1               0\n",
      "4   144372  118671     383199              0               1\n",
      "5   142107   91391     366168              1               0\n",
      "6   131876   99814     362861              0               1\n",
      "7   134615  147198     127716              0               0\n",
      "8   130298  145530     323876              1               0\n",
      "9   120542  148718     311613              0               1\n",
      "10  123334  108679     304981              0               0\n",
      "11  101913  110594     229160              1               0\n",
      "12  100671   91790     249744              0               0\n",
      "13   93863  127320     249839              1               0\n",
      "14   91992  135495     252664              0               0\n",
      "15  119943  156547     256512              1               0\n",
      "16  114523  122616     261776              0               1\n",
      "17   78013  121597     264346              0               0\n",
      "18   94657  145077     282574              0               1\n",
      "19   91749  114175     294919              1               0\n",
      "20   86419  153514     281574              0               1\n",
      "21   76253  113867     298664              0               0\n",
      "22   78389  153773     299737              0               1\n",
      "23   73994  122782     303319              1               0\n",
      "24   67532  105751     304768              1               0\n",
      "25   77044   99281     140574              0               1\n",
      "26   64664  139553     137962              0               0\n",
      "27   75328  144135     134050              1               0\n",
      "28   72107  127864     353183              0               1\n",
      "29   66051  182645     118148              1               0\n",
      "30   65605  153032     107138              0               1\n",
      "31   61994  115641      91131              1               0\n",
      "32   61136  152701      88218              0               1\n",
      "33   63408  129219      46085              0               0\n",
      "34   55493  103057     214634              1               0\n",
      "35   46426  157693     210797              0               0\n",
      "36   46014   85047     205517              0               1\n",
      "37   28663  127056     201126              1               0\n",
      "38   44069   51283     197029              0               0\n",
      "39   20229   65947     185265              0               1\n",
      "40   38558   82982     174999              0               0\n",
      "41   28754  118546     172795              0               0\n",
      "42   27892   84710     164470              1               0\n",
      "43   23640   96189     148001              0               0\n",
      "44   15505  127382      35534              0               1\n",
      "45   22177  154806      28334              0               0\n",
      "46    1000  124153       1903              0               1\n",
      "47    1315  115816     297114              1               0\n",
      "48   14505  135426      35634              0               0\n",
      "49     542   51743     165265              0               1\n",
      "50   59808  116983      45173              0               0\n"
     ]
    }
   ],
   "source": [
    "# Perform dummy encoding on the 'Country' column in X\n",
    "X = pd.get_dummies(X, columns=['State'], drop_first=True).astype(int)\n",
    "\n",
    "print (\"Feature variables after dummy encoding on the State column\")\n",
    "print(X)"
   ]
  },
  {
   "cell_type": "markdown",
   "metadata": {
    "colab_type": "text",
    "id": "WemVnqgeA70k"
   },
   "source": [
    "## Splitting original dataset into the Training set and Test set\n"
   ]
  },
  {
   "cell_type": "code",
   "execution_count": 28,
   "metadata": {
    "colab": {},
    "colab_type": "code",
    "id": "Kb_v_ae-A-20"
   },
   "outputs": [],
   "source": [
    "from sklearn.model_selection import train_test_split\n",
    "\n",
    "X_train, X_test, y_train, y_test = train_test_split(X, y, test_size = 0.2, random_state = 0)"
   ]
  },
  {
   "cell_type": "code",
   "execution_count": 29,
   "metadata": {},
   "outputs": [
    {
     "name": "stdout",
     "output_type": "stream",
     "text": [
      "There are 40 rows in the training dataset\n",
      "\n",
      "The feature variable values are\n"
     ]
    }
   ],
   "source": [
    "print (f\"There are {len(X_train)} rows in the training dataset\\n\")\n",
    "print (\"The feature variable values are\")"
   ]
  },
  {
   "cell_type": "code",
   "execution_count": 30,
   "metadata": {},
   "outputs": [
    {
     "data": {
      "text/html": [
       "<div>\n",
       "<style scoped>\n",
       "    .dataframe tbody tr th:only-of-type {\n",
       "        vertical-align: middle;\n",
       "    }\n",
       "\n",
       "    .dataframe tbody tr th {\n",
       "        vertical-align: top;\n",
       "    }\n",
       "\n",
       "    .dataframe thead th {\n",
       "        text-align: right;\n",
       "    }\n",
       "</style>\n",
       "<table border=\"1\" class=\"dataframe\">\n",
       "  <thead>\n",
       "    <tr style=\"text-align: right;\">\n",
       "      <th></th>\n",
       "      <th>RnD</th>\n",
       "      <th>Admin</th>\n",
       "      <th>Marketing</th>\n",
       "      <th>State_Florida</th>\n",
       "      <th>State_New York</th>\n",
       "    </tr>\n",
       "  </thead>\n",
       "  <tbody>\n",
       "    <tr>\n",
       "      <th>34</th>\n",
       "      <td>55493</td>\n",
       "      <td>103057</td>\n",
       "      <td>214634</td>\n",
       "      <td>1</td>\n",
       "      <td>0</td>\n",
       "    </tr>\n",
       "    <tr>\n",
       "      <th>36</th>\n",
       "      <td>46014</td>\n",
       "      <td>85047</td>\n",
       "      <td>205517</td>\n",
       "      <td>0</td>\n",
       "      <td>1</td>\n",
       "    </tr>\n",
       "    <tr>\n",
       "      <th>27</th>\n",
       "      <td>75328</td>\n",
       "      <td>144135</td>\n",
       "      <td>134050</td>\n",
       "      <td>1</td>\n",
       "      <td>0</td>\n",
       "    </tr>\n",
       "    <tr>\n",
       "      <th>35</th>\n",
       "      <td>46426</td>\n",
       "      <td>157693</td>\n",
       "      <td>210797</td>\n",
       "      <td>0</td>\n",
       "      <td>0</td>\n",
       "    </tr>\n",
       "    <tr>\n",
       "      <th>19</th>\n",
       "      <td>91749</td>\n",
       "      <td>114175</td>\n",
       "      <td>294919</td>\n",
       "      <td>1</td>\n",
       "      <td>0</td>\n",
       "    </tr>\n",
       "    <tr>\n",
       "      <th>8</th>\n",
       "      <td>130298</td>\n",
       "      <td>145530</td>\n",
       "      <td>323876</td>\n",
       "      <td>1</td>\n",
       "      <td>0</td>\n",
       "    </tr>\n",
       "    <tr>\n",
       "      <th>15</th>\n",
       "      <td>119943</td>\n",
       "      <td>156547</td>\n",
       "      <td>256512</td>\n",
       "      <td>1</td>\n",
       "      <td>0</td>\n",
       "    </tr>\n",
       "    <tr>\n",
       "      <th>46</th>\n",
       "      <td>1000</td>\n",
       "      <td>124153</td>\n",
       "      <td>1903</td>\n",
       "      <td>0</td>\n",
       "      <td>1</td>\n",
       "    </tr>\n",
       "    <tr>\n",
       "      <th>49</th>\n",
       "      <td>542</td>\n",
       "      <td>51743</td>\n",
       "      <td>165265</td>\n",
       "      <td>0</td>\n",
       "      <td>1</td>\n",
       "    </tr>\n",
       "    <tr>\n",
       "      <th>30</th>\n",
       "      <td>65605</td>\n",
       "      <td>153032</td>\n",
       "      <td>107138</td>\n",
       "      <td>0</td>\n",
       "      <td>1</td>\n",
       "    </tr>\n",
       "    <tr>\n",
       "      <th>16</th>\n",
       "      <td>114523</td>\n",
       "      <td>122616</td>\n",
       "      <td>261776</td>\n",
       "      <td>0</td>\n",
       "      <td>1</td>\n",
       "    </tr>\n",
       "    <tr>\n",
       "      <th>31</th>\n",
       "      <td>61994</td>\n",
       "      <td>115641</td>\n",
       "      <td>91131</td>\n",
       "      <td>1</td>\n",
       "      <td>0</td>\n",
       "    </tr>\n",
       "    <tr>\n",
       "      <th>33</th>\n",
       "      <td>63408</td>\n",
       "      <td>129219</td>\n",
       "      <td>46085</td>\n",
       "      <td>0</td>\n",
       "      <td>0</td>\n",
       "    </tr>\n",
       "    <tr>\n",
       "      <th>17</th>\n",
       "      <td>78013</td>\n",
       "      <td>121597</td>\n",
       "      <td>264346</td>\n",
       "      <td>0</td>\n",
       "      <td>0</td>\n",
       "    </tr>\n",
       "    <tr>\n",
       "      <th>43</th>\n",
       "      <td>23640</td>\n",
       "      <td>96189</td>\n",
       "      <td>148001</td>\n",
       "      <td>0</td>\n",
       "      <td>0</td>\n",
       "    </tr>\n",
       "    <tr>\n",
       "      <th>21</th>\n",
       "      <td>76253</td>\n",
       "      <td>113867</td>\n",
       "      <td>298664</td>\n",
       "      <td>0</td>\n",
       "      <td>0</td>\n",
       "    </tr>\n",
       "    <tr>\n",
       "      <th>44</th>\n",
       "      <td>15505</td>\n",
       "      <td>127382</td>\n",
       "      <td>35534</td>\n",
       "      <td>0</td>\n",
       "      <td>1</td>\n",
       "    </tr>\n",
       "    <tr>\n",
       "      <th>9</th>\n",
       "      <td>120542</td>\n",
       "      <td>148718</td>\n",
       "      <td>311613</td>\n",
       "      <td>0</td>\n",
       "      <td>1</td>\n",
       "    </tr>\n",
       "    <tr>\n",
       "      <th>14</th>\n",
       "      <td>91992</td>\n",
       "      <td>135495</td>\n",
       "      <td>252664</td>\n",
       "      <td>0</td>\n",
       "      <td>0</td>\n",
       "    </tr>\n",
       "    <tr>\n",
       "      <th>26</th>\n",
       "      <td>64664</td>\n",
       "      <td>139553</td>\n",
       "      <td>137962</td>\n",
       "      <td>0</td>\n",
       "      <td>0</td>\n",
       "    </tr>\n",
       "    <tr>\n",
       "      <th>6</th>\n",
       "      <td>131876</td>\n",
       "      <td>99814</td>\n",
       "      <td>362861</td>\n",
       "      <td>0</td>\n",
       "      <td>1</td>\n",
       "    </tr>\n",
       "    <tr>\n",
       "      <th>18</th>\n",
       "      <td>94657</td>\n",
       "      <td>145077</td>\n",
       "      <td>282574</td>\n",
       "      <td>0</td>\n",
       "      <td>1</td>\n",
       "    </tr>\n",
       "    <tr>\n",
       "      <th>41</th>\n",
       "      <td>28754</td>\n",
       "      <td>118546</td>\n",
       "      <td>172795</td>\n",
       "      <td>0</td>\n",
       "      <td>0</td>\n",
       "    </tr>\n",
       "    <tr>\n",
       "      <th>50</th>\n",
       "      <td>59808</td>\n",
       "      <td>116983</td>\n",
       "      <td>45173</td>\n",
       "      <td>0</td>\n",
       "      <td>0</td>\n",
       "    </tr>\n",
       "    <tr>\n",
       "      <th>2</th>\n",
       "      <td>162597</td>\n",
       "      <td>151377</td>\n",
       "      <td>443898</td>\n",
       "      <td>0</td>\n",
       "      <td>0</td>\n",
       "    </tr>\n",
       "    <tr>\n",
       "      <th>13</th>\n",
       "      <td>93863</td>\n",
       "      <td>127320</td>\n",
       "      <td>249839</td>\n",
       "      <td>1</td>\n",
       "      <td>0</td>\n",
       "    </tr>\n",
       "    <tr>\n",
       "      <th>38</th>\n",
       "      <td>44069</td>\n",
       "      <td>51283</td>\n",
       "      <td>197029</td>\n",
       "      <td>0</td>\n",
       "      <td>0</td>\n",
       "    </tr>\n",
       "    <tr>\n",
       "      <th>25</th>\n",
       "      <td>77044</td>\n",
       "      <td>99281</td>\n",
       "      <td>140574</td>\n",
       "      <td>0</td>\n",
       "      <td>1</td>\n",
       "    </tr>\n",
       "    <tr>\n",
       "      <th>7</th>\n",
       "      <td>134615</td>\n",
       "      <td>147198</td>\n",
       "      <td>127716</td>\n",
       "      <td>0</td>\n",
       "      <td>0</td>\n",
       "    </tr>\n",
       "    <tr>\n",
       "      <th>24</th>\n",
       "      <td>67532</td>\n",
       "      <td>105751</td>\n",
       "      <td>304768</td>\n",
       "      <td>1</td>\n",
       "      <td>0</td>\n",
       "    </tr>\n",
       "    <tr>\n",
       "      <th>37</th>\n",
       "      <td>28663</td>\n",
       "      <td>127056</td>\n",
       "      <td>201126</td>\n",
       "      <td>1</td>\n",
       "      <td>0</td>\n",
       "    </tr>\n",
       "    <tr>\n",
       "      <th>22</th>\n",
       "      <td>78389</td>\n",
       "      <td>153773</td>\n",
       "      <td>299737</td>\n",
       "      <td>0</td>\n",
       "      <td>1</td>\n",
       "    </tr>\n",
       "    <tr>\n",
       "      <th>20</th>\n",
       "      <td>86419</td>\n",
       "      <td>153514</td>\n",
       "      <td>281574</td>\n",
       "      <td>0</td>\n",
       "      <td>1</td>\n",
       "    </tr>\n",
       "    <tr>\n",
       "      <th>10</th>\n",
       "      <td>123334</td>\n",
       "      <td>108679</td>\n",
       "      <td>304981</td>\n",
       "      <td>0</td>\n",
       "      <td>0</td>\n",
       "    </tr>\n",
       "    <tr>\n",
       "      <th>40</th>\n",
       "      <td>38558</td>\n",
       "      <td>82982</td>\n",
       "      <td>174999</td>\n",
       "      <td>0</td>\n",
       "      <td>0</td>\n",
       "    </tr>\n",
       "    <tr>\n",
       "      <th>47</th>\n",
       "      <td>1315</td>\n",
       "      <td>115816</td>\n",
       "      <td>297114</td>\n",
       "      <td>1</td>\n",
       "      <td>0</td>\n",
       "    </tr>\n",
       "    <tr>\n",
       "      <th>4</th>\n",
       "      <td>144372</td>\n",
       "      <td>118671</td>\n",
       "      <td>383199</td>\n",
       "      <td>0</td>\n",
       "      <td>1</td>\n",
       "    </tr>\n",
       "    <tr>\n",
       "      <th>1</th>\n",
       "      <td>165349</td>\n",
       "      <td>136897</td>\n",
       "      <td>471784</td>\n",
       "      <td>0</td>\n",
       "      <td>1</td>\n",
       "    </tr>\n",
       "    <tr>\n",
       "      <th>48</th>\n",
       "      <td>14505</td>\n",
       "      <td>135426</td>\n",
       "      <td>35634</td>\n",
       "      <td>0</td>\n",
       "      <td>0</td>\n",
       "    </tr>\n",
       "    <tr>\n",
       "      <th>45</th>\n",
       "      <td>22177</td>\n",
       "      <td>154806</td>\n",
       "      <td>28334</td>\n",
       "      <td>0</td>\n",
       "      <td>0</td>\n",
       "    </tr>\n",
       "  </tbody>\n",
       "</table>\n",
       "</div>"
      ],
      "text/plain": [
       "       RnD   Admin  Marketing  State_Florida  State_New York\n",
       "34   55493  103057     214634              1               0\n",
       "36   46014   85047     205517              0               1\n",
       "27   75328  144135     134050              1               0\n",
       "35   46426  157693     210797              0               0\n",
       "19   91749  114175     294919              1               0\n",
       "8   130298  145530     323876              1               0\n",
       "15  119943  156547     256512              1               0\n",
       "46    1000  124153       1903              0               1\n",
       "49     542   51743     165265              0               1\n",
       "30   65605  153032     107138              0               1\n",
       "16  114523  122616     261776              0               1\n",
       "31   61994  115641      91131              1               0\n",
       "33   63408  129219      46085              0               0\n",
       "17   78013  121597     264346              0               0\n",
       "43   23640   96189     148001              0               0\n",
       "21   76253  113867     298664              0               0\n",
       "44   15505  127382      35534              0               1\n",
       "9   120542  148718     311613              0               1\n",
       "14   91992  135495     252664              0               0\n",
       "26   64664  139553     137962              0               0\n",
       "6   131876   99814     362861              0               1\n",
       "18   94657  145077     282574              0               1\n",
       "41   28754  118546     172795              0               0\n",
       "50   59808  116983      45173              0               0\n",
       "2   162597  151377     443898              0               0\n",
       "13   93863  127320     249839              1               0\n",
       "38   44069   51283     197029              0               0\n",
       "25   77044   99281     140574              0               1\n",
       "7   134615  147198     127716              0               0\n",
       "24   67532  105751     304768              1               0\n",
       "37   28663  127056     201126              1               0\n",
       "22   78389  153773     299737              0               1\n",
       "20   86419  153514     281574              0               1\n",
       "10  123334  108679     304981              0               0\n",
       "40   38558   82982     174999              0               0\n",
       "47    1315  115816     297114              1               0\n",
       "4   144372  118671     383199              0               1\n",
       "1   165349  136897     471784              0               1\n",
       "48   14505  135426      35634              0               0\n",
       "45   22177  154806      28334              0               0"
      ]
     },
     "execution_count": 30,
     "metadata": {},
     "output_type": "execute_result"
    }
   ],
   "source": [
    "X_train"
   ]
  },
  {
   "cell_type": "code",
   "execution_count": 31,
   "metadata": {},
   "outputs": [
    {
     "data": {
      "text/plain": [
       "34     96778.92\n",
       "36     96479.51\n",
       "27    105733.54\n",
       "35     96712.80\n",
       "19    124266.90\n",
       "8     155752.60\n",
       "15    132602.65\n",
       "46     64926.08\n",
       "49     35673.41\n",
       "30    101004.64\n",
       "16    129917.04\n",
       "31     99937.59\n",
       "33     97427.84\n",
       "17    126992.93\n",
       "43     71498.49\n",
       "21    118474.03\n",
       "44     69758.98\n",
       "9     152211.77\n",
       "14    134307.35\n",
       "26    107404.34\n",
       "6     156991.12\n",
       "18    125370.37\n",
       "41     78239.91\n",
       "50     14681.40\n",
       "2     191792.06\n",
       "13    141585.52\n",
       "38     89949.14\n",
       "25    108552.04\n",
       "7     156122.51\n",
       "24    108733.99\n",
       "37     90708.19\n",
       "22    111313.02\n",
       "20    122776.86\n",
       "10    149759.96\n",
       "40     81005.76\n",
       "47     49490.75\n",
       "4     182901.99\n",
       "1     192261.83\n",
       "48     42559.73\n",
       "45     65200.33\n",
       "Name: Profit, dtype: float64"
      ]
     },
     "execution_count": 31,
     "metadata": {},
     "output_type": "execute_result"
    }
   ],
   "source": [
    "y_train"
   ]
  },
  {
   "cell_type": "code",
   "execution_count": 32,
   "metadata": {},
   "outputs": [
    {
     "name": "stdout",
     "output_type": "stream",
     "text": [
      "There are 10 rows in the test dataset\n",
      "\n",
      "The feature variable values are\n"
     ]
    }
   ],
   "source": [
    "print (f\"There are {len(X_test)} rows in the test dataset\\n\")\n",
    "print (\"The feature variable values are\")"
   ]
  },
  {
   "cell_type": "code",
   "execution_count": 33,
   "metadata": {},
   "outputs": [
    {
     "data": {
      "text/html": [
       "<div>\n",
       "<style scoped>\n",
       "    .dataframe tbody tr th:only-of-type {\n",
       "        vertical-align: middle;\n",
       "    }\n",
       "\n",
       "    .dataframe tbody tr th {\n",
       "        vertical-align: top;\n",
       "    }\n",
       "\n",
       "    .dataframe thead th {\n",
       "        text-align: right;\n",
       "    }\n",
       "</style>\n",
       "<table border=\"1\" class=\"dataframe\">\n",
       "  <thead>\n",
       "    <tr style=\"text-align: right;\">\n",
       "      <th></th>\n",
       "      <th>RnD</th>\n",
       "      <th>Admin</th>\n",
       "      <th>Marketing</th>\n",
       "      <th>State_Florida</th>\n",
       "      <th>State_New York</th>\n",
       "    </tr>\n",
       "  </thead>\n",
       "  <tbody>\n",
       "    <tr>\n",
       "      <th>29</th>\n",
       "      <td>66051</td>\n",
       "      <td>182645</td>\n",
       "      <td>118148</td>\n",
       "      <td>1</td>\n",
       "      <td>0</td>\n",
       "    </tr>\n",
       "    <tr>\n",
       "      <th>12</th>\n",
       "      <td>100671</td>\n",
       "      <td>91790</td>\n",
       "      <td>249744</td>\n",
       "      <td>0</td>\n",
       "      <td>0</td>\n",
       "    </tr>\n",
       "    <tr>\n",
       "      <th>11</th>\n",
       "      <td>101913</td>\n",
       "      <td>110594</td>\n",
       "      <td>229160</td>\n",
       "      <td>1</td>\n",
       "      <td>0</td>\n",
       "    </tr>\n",
       "    <tr>\n",
       "      <th>42</th>\n",
       "      <td>27892</td>\n",
       "      <td>84710</td>\n",
       "      <td>164470</td>\n",
       "      <td>1</td>\n",
       "      <td>0</td>\n",
       "    </tr>\n",
       "    <tr>\n",
       "      <th>3</th>\n",
       "      <td>153441</td>\n",
       "      <td>101145</td>\n",
       "      <td>407934</td>\n",
       "      <td>1</td>\n",
       "      <td>0</td>\n",
       "    </tr>\n",
       "    <tr>\n",
       "      <th>28</th>\n",
       "      <td>72107</td>\n",
       "      <td>127864</td>\n",
       "      <td>353183</td>\n",
       "      <td>0</td>\n",
       "      <td>1</td>\n",
       "    </tr>\n",
       "    <tr>\n",
       "      <th>39</th>\n",
       "      <td>20229</td>\n",
       "      <td>65947</td>\n",
       "      <td>185265</td>\n",
       "      <td>0</td>\n",
       "      <td>1</td>\n",
       "    </tr>\n",
       "    <tr>\n",
       "      <th>32</th>\n",
       "      <td>61136</td>\n",
       "      <td>152701</td>\n",
       "      <td>88218</td>\n",
       "      <td>0</td>\n",
       "      <td>1</td>\n",
       "    </tr>\n",
       "    <tr>\n",
       "      <th>23</th>\n",
       "      <td>73994</td>\n",
       "      <td>122782</td>\n",
       "      <td>303319</td>\n",
       "      <td>1</td>\n",
       "      <td>0</td>\n",
       "    </tr>\n",
       "    <tr>\n",
       "      <th>5</th>\n",
       "      <td>142107</td>\n",
       "      <td>91391</td>\n",
       "      <td>366168</td>\n",
       "      <td>1</td>\n",
       "      <td>0</td>\n",
       "    </tr>\n",
       "  </tbody>\n",
       "</table>\n",
       "</div>"
      ],
      "text/plain": [
       "       RnD   Admin  Marketing  State_Florida  State_New York\n",
       "29   66051  182645     118148              1               0\n",
       "12  100671   91790     249744              0               0\n",
       "11  101913  110594     229160              1               0\n",
       "42   27892   84710     164470              1               0\n",
       "3   153441  101145     407934              1               0\n",
       "28   72107  127864     353183              0               1\n",
       "39   20229   65947     185265              0               1\n",
       "32   61136  152701      88218              0               1\n",
       "23   73994  122782     303319              1               0\n",
       "5   142107   91391     366168              1               0"
      ]
     },
     "execution_count": 33,
     "metadata": {},
     "output_type": "execute_result"
    }
   ],
   "source": [
    "X_test"
   ]
  },
  {
   "cell_type": "code",
   "execution_count": 34,
   "metadata": {},
   "outputs": [
    {
     "data": {
      "text/plain": [
       "29    103282.38\n",
       "12    144259.40\n",
       "11    146121.95\n",
       "42     77798.83\n",
       "3     191050.39\n",
       "28    105008.31\n",
       "39     81229.06\n",
       "32     97483.56\n",
       "23    110352.25\n",
       "5     166187.94\n",
       "Name: Profit, dtype: float64"
      ]
     },
     "execution_count": 34,
     "metadata": {},
     "output_type": "execute_result"
    }
   ],
   "source": [
    "y_test"
   ]
  },
  {
   "cell_type": "code",
   "execution_count": null,
   "metadata": {},
   "outputs": [],
   "source": []
  },
  {
   "cell_type": "markdown",
   "metadata": {
    "colab_type": "text",
    "id": "k-McZVsQBINc"
   },
   "source": [
    "## Training the Multiple Linear Regression model using the training dataset"
   ]
  },
  {
   "cell_type": "code",
   "execution_count": 35,
   "metadata": {
    "colab": {
     "base_uri": "https://localhost:8080/",
     "height": 34
    },
    "colab_type": "code",
    "executionInfo": {
     "elapsed": 757,
     "status": "ok",
     "timestamp": 1586353664008,
     "user": {
      "displayName": "Hadelin de Ponteves",
      "photoUrl": "https://lh3.googleusercontent.com/a-/AOh14GhEuXdT7eQweUmRPW8_laJuPggSK6hfvpl5a6WBaA=s64",
      "userId": "15047218817161520419"
     },
     "user_tz": -240
    },
    "id": "ywPjx0L1BMiD",
    "outputId": "099836bc-4d85-4b4f-a488-093faf02e8cb"
   },
   "outputs": [
    {
     "data": {
      "text/html": [
       "<style>#sk-container-id-2 {color: black;background-color: white;}#sk-container-id-2 pre{padding: 0;}#sk-container-id-2 div.sk-toggleable {background-color: white;}#sk-container-id-2 label.sk-toggleable__label {cursor: pointer;display: block;width: 100%;margin-bottom: 0;padding: 0.3em;box-sizing: border-box;text-align: center;}#sk-container-id-2 label.sk-toggleable__label-arrow:before {content: \"▸\";float: left;margin-right: 0.25em;color: #696969;}#sk-container-id-2 label.sk-toggleable__label-arrow:hover:before {color: black;}#sk-container-id-2 div.sk-estimator:hover label.sk-toggleable__label-arrow:before {color: black;}#sk-container-id-2 div.sk-toggleable__content {max-height: 0;max-width: 0;overflow: hidden;text-align: left;background-color: #f0f8ff;}#sk-container-id-2 div.sk-toggleable__content pre {margin: 0.2em;color: black;border-radius: 0.25em;background-color: #f0f8ff;}#sk-container-id-2 input.sk-toggleable__control:checked~div.sk-toggleable__content {max-height: 200px;max-width: 100%;overflow: auto;}#sk-container-id-2 input.sk-toggleable__control:checked~label.sk-toggleable__label-arrow:before {content: \"▾\";}#sk-container-id-2 div.sk-estimator input.sk-toggleable__control:checked~label.sk-toggleable__label {background-color: #d4ebff;}#sk-container-id-2 div.sk-label input.sk-toggleable__control:checked~label.sk-toggleable__label {background-color: #d4ebff;}#sk-container-id-2 input.sk-hidden--visually {border: 0;clip: rect(1px 1px 1px 1px);clip: rect(1px, 1px, 1px, 1px);height: 1px;margin: -1px;overflow: hidden;padding: 0;position: absolute;width: 1px;}#sk-container-id-2 div.sk-estimator {font-family: monospace;background-color: #f0f8ff;border: 1px dotted black;border-radius: 0.25em;box-sizing: border-box;margin-bottom: 0.5em;}#sk-container-id-2 div.sk-estimator:hover {background-color: #d4ebff;}#sk-container-id-2 div.sk-parallel-item::after {content: \"\";width: 100%;border-bottom: 1px solid gray;flex-grow: 1;}#sk-container-id-2 div.sk-label:hover label.sk-toggleable__label {background-color: #d4ebff;}#sk-container-id-2 div.sk-serial::before {content: \"\";position: absolute;border-left: 1px solid gray;box-sizing: border-box;top: 0;bottom: 0;left: 50%;z-index: 0;}#sk-container-id-2 div.sk-serial {display: flex;flex-direction: column;align-items: center;background-color: white;padding-right: 0.2em;padding-left: 0.2em;position: relative;}#sk-container-id-2 div.sk-item {position: relative;z-index: 1;}#sk-container-id-2 div.sk-parallel {display: flex;align-items: stretch;justify-content: center;background-color: white;position: relative;}#sk-container-id-2 div.sk-item::before, #sk-container-id-2 div.sk-parallel-item::before {content: \"\";position: absolute;border-left: 1px solid gray;box-sizing: border-box;top: 0;bottom: 0;left: 50%;z-index: -1;}#sk-container-id-2 div.sk-parallel-item {display: flex;flex-direction: column;z-index: 1;position: relative;background-color: white;}#sk-container-id-2 div.sk-parallel-item:first-child::after {align-self: flex-end;width: 50%;}#sk-container-id-2 div.sk-parallel-item:last-child::after {align-self: flex-start;width: 50%;}#sk-container-id-2 div.sk-parallel-item:only-child::after {width: 0;}#sk-container-id-2 div.sk-dashed-wrapped {border: 1px dashed gray;margin: 0 0.4em 0.5em 0.4em;box-sizing: border-box;padding-bottom: 0.4em;background-color: white;}#sk-container-id-2 div.sk-label label {font-family: monospace;font-weight: bold;display: inline-block;line-height: 1.2em;}#sk-container-id-2 div.sk-label-container {text-align: center;}#sk-container-id-2 div.sk-container {/* jupyter's `normalize.less` sets `[hidden] { display: none; }` but bootstrap.min.css set `[hidden] { display: none !important; }` so we also need the `!important` here to be able to override the default hidden behavior on the sphinx rendered scikit-learn.org. See: https://github.com/scikit-learn/scikit-learn/issues/21755 */display: inline-block !important;position: relative;}#sk-container-id-2 div.sk-text-repr-fallback {display: none;}</style><div id=\"sk-container-id-2\" class=\"sk-top-container\"><div class=\"sk-text-repr-fallback\"><pre>LinearRegression()</pre><b>In a Jupyter environment, please rerun this cell to show the HTML representation or trust the notebook. <br />On GitHub, the HTML representation is unable to render, please try loading this page with nbviewer.org.</b></div><div class=\"sk-container\" hidden><div class=\"sk-item\"><div class=\"sk-estimator sk-toggleable\"><input class=\"sk-toggleable__control sk-hidden--visually\" id=\"sk-estimator-id-2\" type=\"checkbox\" checked><label for=\"sk-estimator-id-2\" class=\"sk-toggleable__label sk-toggleable__label-arrow\">LinearRegression</label><div class=\"sk-toggleable__content\"><pre>LinearRegression()</pre></div></div></div></div></div>"
      ],
      "text/plain": [
       "LinearRegression()"
      ]
     },
     "execution_count": 35,
     "metadata": {},
     "output_type": "execute_result"
    }
   ],
   "source": [
    "from sklearn.linear_model import LinearRegression\n",
    "regressor = LinearRegression()\n",
    "regressor.fit(X_train, y_train)"
   ]
  },
  {
   "cell_type": "markdown",
   "metadata": {
    "colab_type": "text",
    "id": "xNkXL1YQBiBT"
   },
   "source": [
    "## Generating predictions using the test dataset\n",
    "\n",
    "We generate predictions from the test dataset and then compare these visually with the actual test target variable values by printing them out or using a simple scatter plot\n",
    "\n",
    "For a real life ML project, this step is not necessary. We would only need to check the regression metrics to \n",
    "determine evaluate how good or accurate this model is. We **do not use manual inspection** to determine how good a model is !\n"
   ]
  },
  {
   "cell_type": "code",
   "execution_count": 36,
   "metadata": {
    "colab": {
     "base_uri": "https://localhost:8080/",
     "height": 185
    },
    "colab_type": "code",
    "executionInfo": {
     "elapsed": 951,
     "status": "ok",
     "timestamp": 1586353666678,
     "user": {
      "displayName": "Hadelin de Ponteves",
      "photoUrl": "https://lh3.googleusercontent.com/a-/AOh14GhEuXdT7eQweUmRPW8_laJuPggSK6hfvpl5a6WBaA=s64",
      "userId": "15047218817161520419"
     },
     "user_tz": -240
    },
    "id": "TQKmwvtdBkyb",
    "outputId": "493436bf-a4ae-4374-ca16-0b0c25d19457"
   },
   "outputs": [
    {
     "name": "stdout",
     "output_type": "stream",
     "text": [
      "The predictions generated from the model using the test dataset feature variable values\n",
      "[101624.4, 126930.8, 128395.1, 70902.8, 176773.1, 121351.1, 67273.2, 94762.0, 116616.4, 164883.6]\n",
      "\n",
      "The actual target variable values corresponding to the test dataset feature variable values\n",
      "[103282.38, 144259.4, 146121.95, 77798.83, 191050.39, 105008.31, 81229.06, 97483.56, 110352.25, 166187.94]\n"
     ]
    }
   ],
   "source": [
    "# Generate predictions from the model using the test data set\n",
    "y_pred = regressor.predict(X_test)\n",
    "print (\"The predictions generated from the model using the test dataset feature variable values\")\n",
    "\n",
    "# Round up the predictions to 1 decimal place for easier viewing\n",
    "y_pred_rounded = np.ceil(y_pred * 10) / 10\n",
    "\n",
    "print (y_pred_rounded.tolist())\n",
    "\n",
    "# We compare these predictions with the actual test target variable values\n",
    "print (\"\\nThe actual target variable values corresponding to the test dataset feature variable values\")\n",
    "print (y_test.tolist())\n",
    "\n",
    "\n"
   ]
  },
  {
   "cell_type": "code",
   "execution_count": 37,
   "metadata": {},
   "outputs": [
    {
     "data": {
      "image/png": "[encoded data removed]",
      "text/plain": [
       "<Figure size 1000x600 with 1 Axes>"
      ]
     },
     "metadata": {},
     "output_type": "display_data"
    }
   ],
   "source": [
    "plt.figure(figsize=(10, 6))\n",
    "plt.scatter(range(len(y_test)), y_test, color='blue', label='Actual Values')\n",
    "plt.scatter(range(len(y_pred)), y_pred, color='red', label='Predicted Values')\n",
    "plt.title('Comparison of Actual vs Predicted Values')\n",
    "plt.xlabel('Index')\n",
    "plt.ylabel('Profit')\n",
    "plt.legend()\n",
    "plt.grid(True)\n",
    "plt.show()"
   ]
  },
  {
   "cell_type": "markdown",
   "metadata": {},
   "source": [
    "## Common metrics for model evaluation in regression\n",
    "* R Squared \n",
    "* Mean Square Error(MSE) / Root Mean Square Error(RMSE)\n",
    "* Mean Absolute Error(MAE)\n",
    "\n",
    "When we evaluate metrics, we use the target variable (Profit Column) in test dataset as the ground truth\n",
    "and compare that with the predictions generated by the model for the feature variables in the test dataset\n",
    "\n",
    "R Squared is always between 0 (totally useless) and 1 (perfect accuracy)\n",
    "\n",
    "RMSE and MAE both are roughly in the same units or magnitude range as the target variable (Profit column)\n",
    "RMSE / MAE are in thousands (1000s) while Profit is in (100,000s)\n",
    "\n",
    "Therefore, RMSE / MAE will have different range of values, depending on the magnitude of the target variable column\n",
    "In other words, they are dataset specific\n",
    "\n",
    "They are good for **comparing between different models trained on the same dataset**\n",
    "\n",
    "Typically used in  data science competitions such as Kaggle !\n",
    "\n",
    "\n",
    "\n",
    "R Squared, on the other hand, is always between 0 and 1, regardless of the magnitude of the target variable column\n",
    "\n",
    "It is good for **assessing the accuracy of the model as a whole, and is therefore a more popular metric**\n",
    "\n",
    "It is also easier to explain and justify to non data-scientists ! \n",
    "\n",
    " \n"
   ]
  },
  {
   "cell_type": "code",
   "execution_count": 38,
   "metadata": {},
   "outputs": [
    {
     "name": "stdout",
     "output_type": "stream",
     "text": [
      "R2 score :  0.8921823125735281\n",
      "MSE:  137887134.02674896\n",
      "RMSE :  11742.53524698772\n",
      "MAE :  9847.576882390324\n"
     ]
    }
   ],
   "source": [
    "from sklearn.metrics import mean_squared_error\n",
    "from sklearn.metrics import r2_score\n",
    "from sklearn.metrics import mean_absolute_error\n",
    "\n",
    "print(\"R2 score : \", r2_score(y_test,y_pred))\n",
    "print(\"MSE: \", mean_squared_error(y_test, y_pred))\n",
    "print(\"RMSE : \" ,np.sqrt(mean_squared_error(y_test, y_pred)))\n",
    "print(\"MAE : \" , mean_absolute_error(y_test,y_pred))"
   ]
  },
  {
   "cell_type": "markdown",
   "metadata": {},
   "source": [
    "## Using the model to generate predictions\n",
    "\n",
    "Assuming we are happy with the metrics for the model, we are now ready to use the model by providing it some values for the feature variables and generating a prediction for the target variable\n",
    "\n",
    "For e.g. assume we want to predict profit for a company in New York with the following situation\n",
    "\n",
    "\n",
    "RnD: 165000\n",
    "\n",
    "\n",
    "Admin: 135000\n",
    "\n",
    "\n",
    "Marketing: 475000\n",
    "\n",
    "\n",
    "To encode New York, we use State_Florida = 0 and State_New York = 1\n"
   ]
  },
  {
   "cell_type": "code",
   "execution_count": 39,
   "metadata": {},
   "outputs": [
    {
     "data": {
      "text/html": [
       "<div>\n",
       "<style scoped>\n",
       "    .dataframe tbody tr th:only-of-type {\n",
       "        vertical-align: middle;\n",
       "    }\n",
       "\n",
       "    .dataframe tbody tr th {\n",
       "        vertical-align: top;\n",
       "    }\n",
       "\n",
       "    .dataframe thead th {\n",
       "        text-align: right;\n",
       "    }\n",
       "</style>\n",
       "<table border=\"1\" class=\"dataframe\">\n",
       "  <thead>\n",
       "    <tr style=\"text-align: right;\">\n",
       "      <th></th>\n",
       "      <th>RnD</th>\n",
       "      <th>Admin</th>\n",
       "      <th>Marketing</th>\n",
       "      <th>State_Florida</th>\n",
       "      <th>State_New York</th>\n",
       "    </tr>\n",
       "  </thead>\n",
       "  <tbody>\n",
       "    <tr>\n",
       "      <th>0</th>\n",
       "      <td>165000</td>\n",
       "      <td>135000</td>\n",
       "      <td>475000</td>\n",
       "      <td>0</td>\n",
       "      <td>1</td>\n",
       "    </tr>\n",
       "  </tbody>\n",
       "</table>\n",
       "</div>"
      ],
      "text/plain": [
       "      RnD   Admin  Marketing  State_Florida  State_New York\n",
       "0  165000  135000     475000              0               1"
      ]
     },
     "execution_count": 39,
     "metadata": {},
     "output_type": "execute_result"
    }
   ],
   "source": [
    "\n",
    "# We must create a DataFrame with the same structure and labels as the training dataset that was used\n",
    "# to train the model initially. Then put our specific feature variable values into it\n",
    "\n",
    "sample_df = pd.DataFrame({\n",
    "    'RnD': [165000],\n",
    "    'Admin': [135000],\n",
    "    'Marketing': [475000],\n",
    "    'State_Florida' : [0],\n",
    "    'State_New York' : [1]\n",
    "})\n",
    "sample_df"
   ]
  },
  {
   "cell_type": "code",
   "execution_count": 40,
   "metadata": {},
   "outputs": [
    {
     "name": "stdout",
     "output_type": "stream",
     "text": [
      "The predicted target variable value (profit) for that sample data point is  [194529.66248322]\n"
     ]
    }
   ],
   "source": [
    "profit_pred = regressor.predict(sample_df)\n",
    "print (\"The predicted target variable value (profit) for that sample data point is \", profit_pred)"
   ]
  },
  {
   "cell_type": "code",
   "execution_count": null,
   "metadata": {},
   "outputs": [],
   "source": []
  }
 ],
 "metadata": {
  "colab": {
   "authorship_tag": "ABX9TyPhYhte6t7H4wEK4xPpDWT7",
   "name": "Multiple Linear Regression",
   "provenance": [],
   "toc_visible": true
  },
  "kernelspec": {
   "display_name": "Python 3 (ipykernel)",
   "language": "python",
   "name": "python3"
  },
  "language_info": {
   "codemirror_mode": {
    "name": "ipython",
    "version": 3
   },
   "file_extension": ".py",
   "mimetype": "text/x-python",
   "name": "python",
   "nbconvert_exporter": "python",
   "pygments_lexer": "ipython3",
   "version": "3.11.7"
  }
 },
 "nbformat": 4,
 "nbformat_minor": 4
}
