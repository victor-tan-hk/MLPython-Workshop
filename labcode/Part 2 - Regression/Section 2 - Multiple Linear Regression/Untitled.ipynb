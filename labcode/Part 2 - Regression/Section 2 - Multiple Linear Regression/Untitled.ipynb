{
 "cells": [
  {
   "cell_type": "code",
   "execution_count": 1,
   "id": "a8e98961-8f3b-4d59-a6c8-5ce43ac9ce02",
   "metadata": {},
   "outputs": [],
   "source": [
    "\n",
    "def process_text_file(input_file, output_file):\n",
    "    with open(input_file, 'r') as file:\n",
    "        lines = file.readlines()\n",
    "\n",
    "    # Check if the number of lines is even\n",
    "    if len(lines) % 2 != 0:\n",
    "        print(\"The input file does not contain an even number of lines. Please check the file format.\")\n",
    "        return\n",
    "    \n",
    "    combined_lines = []\n",
    "    \n",
    "    # Process the lines in pairs (odd line + even line)\n",
    "    for i in range(0, len(lines), 2):\n",
    "        # Strip whitespace and newlines\n",
    "        odd_line = lines[i].strip()\n",
    "        even_line = lines[i+1].strip()\n",
    "        \n",
    "        # Combine the odd and even lines with a space\n",
    "        combined_line = f\"{odd_line} {even_line}\"\n",
    "        \n",
    "        # Append the combined line to the result list\n",
    "        combined_lines.append(combined_line)\n",
    "    \n",
    "    # Write the combined lines to the output file\n",
    "    with open(output_file, 'w') as file:\n",
    "        for line in combined_lines:\n",
    "            file.write(line + '\\n')\n",
    "\n",
    "# Example usage\n",
    "input_file = 'USA_Housing-content.txt'  # Replace with your input file path\n",
    "output_file = 'output.txt'  # Replace with your desired output file path\n",
    "process_text_file(input_file, output_file)\n",
    "\n",
    "\n"
   ]
  },
  {
   "cell_type": "code",
   "execution_count": null,
   "id": "89a761cf-5c31-41f0-937f-6aba480dca27",
   "metadata": {},
   "outputs": [],
   "source": []
  }
 ],
 "metadata": {
  "kernelspec": {
   "display_name": "Python 3 (ipykernel)",
   "language": "python",
   "name": "python3"
  },
  "language_info": {
   "codemirror_mode": {
    "name": "ipython",
    "version": 3
   },
   "file_extension": ".py",
   "mimetype": "text/x-python",
   "name": "python",
   "nbconvert_exporter": "python",
   "pygments_lexer": "ipython3",
   "version": "3.11.7"
  }
 },
 "nbformat": 4,
 "nbformat_minor": 5
}
